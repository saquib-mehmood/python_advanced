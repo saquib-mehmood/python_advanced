{
 "cells": [
  {
   "cell_type": "markdown",
   "metadata": {},
   "source": [
    "# Lesson - Transforming Data with Pandas\n",
    "\n",
    "In this lesson, we'll work with the World Happiness Report, an annual report created by the UN Sustainable Development Solutions Network with the intent of guiding policy. The report assigns each country a happiness score based on the answers to a poll question that asks respondents to rank their life on a scale of 0 - 10.\n",
    "It also includes estimates of factors that may contribute to each country's happiness, including economic production, social support, life expectancy, freedom, absence of corruption, and generosity, to provide context for the score. Although these factors aren't actually used in the calculation of the happiness score, they can help illustrate why a country received a certain score.\n",
    "We can find the data (here)[https://www.kaggle.com/unsdsn/world-happiness].\n",
    "\n",
    "We'll explore the following functions and methods to perform this task:\n",
    "\n",
    "`Series.map()`\n",
    "`Series.apply()`\n",
    "`DataFrame.applymap()`\n",
    "`DataFrame.apply()`\n",
    "`pd.melt()`"
   ]
  },
  {
   "cell_type": "code",
   "execution_count": 1,
   "metadata": {},
   "outputs": [],
   "source": [
    "import numpy as np\n",
    "import pandas as pd\n",
    "happiness2015 = pd.read_csv(\"World_Happiness_2015.csv\")\n",
    "happiness2016 = pd.read_csv(\"World_Happiness_2016.csv\")\n",
    "happiness2017 = pd.read_csv(\"World_Happiness_2017.csv\")\n",
    "happiness2015['Year']=2015 #adding 'Year' column to all dataframes\n",
    "happiness2016['Year']=2016\n",
    "happiness2017['Year']=2017"
   ]
  },
  {
   "cell_type": "code",
   "execution_count": 2,
   "metadata": {
    "scrolled": true
   },
   "outputs": [
    {
     "name": "stdout",
     "output_type": "stream",
     "text": [
      "       Country          Region  Happiness Rank  Happiness Score  \\\n",
      "0  Switzerland  Western Europe               1            7.587   \n",
      "1      Iceland  Western Europe               2            7.561   \n",
      "2      Denmark  Western Europe               3            7.527   \n",
      "3       Norway  Western Europe               4            7.522   \n",
      "4       Canada   North America               5            7.427   \n",
      "\n",
      "   Standard Error  Economy (GDP per Capita)   Family  \\\n",
      "0         0.03411                   1.39651  1.34951   \n",
      "1         0.04884                   1.30232  1.40223   \n",
      "2         0.03328                   1.32548  1.36058   \n",
      "3         0.03880                   1.45900  1.33095   \n",
      "4         0.03553                   1.32629  1.32261   \n",
      "\n",
      "   Health (Life Expectancy)  Freedom  Trust (Government Corruption)  \\\n",
      "0                   0.94143  0.66557                        0.41978   \n",
      "1                   0.94784  0.62877                        0.14145   \n",
      "2                   0.87464  0.64938                        0.48357   \n",
      "3                   0.88521  0.66973                        0.36503   \n",
      "4                   0.90563  0.63297                        0.32957   \n",
      "\n",
      "   Generosity  Dystopia Residual  Year  \n",
      "0     0.29678            2.51738  2015  \n",
      "1     0.43630            2.70201  2015  \n",
      "2     0.34139            2.49204  2015  \n",
      "3     0.34699            2.46531  2015  \n",
      "4     0.45811            2.45176  2015  \n"
     ]
    }
   ],
   "source": [
    "print(happiness2015.head())"
   ]
  },
  {
   "cell_type": "code",
   "execution_count": 3,
   "metadata": {},
   "outputs": [],
   "source": [
    "mapping = {'Economy (GDP per Capita)': 'Economy', 'Health (Life Expectancy)': 'Health', 'Trust (Government Corruption)': 'Trust' }\n",
    "happiness2015=happiness2015.rename(columns=mapping)#Renaming some columns"
   ]
  },
  {
   "cell_type": "markdown",
   "metadata": {},
   "source": [
    "### Apply a Function Element wise using `map()` and `apply()` Functions"
   ]
  },
  {
   "cell_type": "code",
   "execution_count": 4,
   "metadata": {},
   "outputs": [
    {
     "name": "stdout",
     "output_type": "stream",
     "text": [
      "True\n"
     ]
    }
   ],
   "source": [
    "def label(element):\n",
    "    if element > 1:\n",
    "        return 'High'\n",
    "    else:\n",
    "        return 'Low'\n",
    "economy_impact_map=happiness2015[\"Economy\"].map(label)\n",
    "economy_impact_apply=happiness2015[\"Economy\"].apply(label)\n",
    "equal=economy_impact_map.equals(economy_impact_apply)\n",
    "print(equal)"
   ]
  },
  {
   "cell_type": "code",
   "execution_count": 5,
   "metadata": {
    "scrolled": true
   },
   "outputs": [
    {
     "name": "stdout",
     "output_type": "stream",
     "text": [
      "0      High\n",
      "1      High\n",
      "2      High\n",
      "3      High\n",
      "4      High\n",
      "       ... \n",
      "153     Low\n",
      "154     Low\n",
      "155     Low\n",
      "156     Low\n",
      "157     Low\n",
      "Name: Economy, Length: 158, dtype: object\n"
     ]
    }
   ],
   "source": [
    "def label(element,x):\n",
    "    if element > x:\n",
    "        return 'High'\n",
    "    else:\n",
    "        return 'Low'\n",
    "economy_impact_apply = happiness2015['Economy'].apply(label,x=0.8)\n",
    "print(economy_impact_apply)"
   ]
  },
  {
   "cell_type": "markdown",
   "metadata": {},
   "source": [
    "### Apply a Function Element-wise to Multiple Columns Using `Applymap Method`"
   ]
  },
  {
   "cell_type": "code",
   "execution_count": 6,
   "metadata": {
    "scrolled": true
   },
   "outputs": [
    {
     "name": "stdout",
     "output_type": "stream",
     "text": [
      "    Economy Family Health Freedom Trust Generosity\n",
      "0      High   High    Low     Low   Low        Low\n",
      "1      High   High    Low     Low   Low        Low\n",
      "2      High   High    Low     Low   Low        Low\n",
      "3      High   High    Low     Low   Low        Low\n",
      "4      High   High    Low     Low   Low        Low\n",
      "..      ...    ...    ...     ...   ...        ...\n",
      "153     Low    Low    Low     Low   Low        Low\n",
      "154     Low    Low    Low     Low   Low        Low\n",
      "155     Low    Low    Low     Low   Low        Low\n",
      "156     Low    Low    Low     Low   Low        Low\n",
      "157     Low    Low    Low     Low   Low        Low\n",
      "\n",
      "[158 rows x 6 columns]\n"
     ]
    }
   ],
   "source": [
    "def label(element):\n",
    "    if element > 1:\n",
    "        return 'High'\n",
    "    else:\n",
    "        return 'Low'\n",
    "economy_apply = happiness2015['Economy'].apply(label)\n",
    "factors = ['Economy', 'Family', 'Health', 'Freedom', 'Trust', 'Generosity']\n",
    "factors_impact=happiness2015[factors].applymap(label)\n",
    "print(factors_impact)"
   ]
  },
  {
   "cell_type": "markdown",
   "metadata": {},
   "source": [
    "### Apply Functions along an Axis using the Apply Method using `df.apply`"
   ]
  },
  {
   "cell_type": "code",
   "execution_count": 7,
   "metadata": {},
   "outputs": [
    {
     "name": "stdout",
     "output_type": "stream",
     "text": [
      "       Economy    Family    Health  Freedom  Trust  Generosity\n",
      "High  0.417722  0.563291  0.012658      NaN    NaN         NaN\n",
      "Low   0.582278  0.436709  0.987342      1.0    1.0         1.0\n"
     ]
    }
   ],
   "source": [
    "def v_counts(col):\n",
    "    num=col.value_counts()\n",
    "    den=col.size\n",
    "    pct=num/den\n",
    "    return pct\n",
    "v_counts_pct=factors_impact.apply(v_counts)\n",
    "print(v_counts_pct) "
   ]
  },
  {
   "cell_type": "code",
   "execution_count": 8,
   "metadata": {},
   "outputs": [
    {
     "data": {
      "text/html": [
       "<div>\n",
       "<style scoped>\n",
       "    .dataframe tbody tr th:only-of-type {\n",
       "        vertical-align: middle;\n",
       "    }\n",
       "\n",
       "    .dataframe tbody tr th {\n",
       "        vertical-align: top;\n",
       "    }\n",
       "\n",
       "    .dataframe thead th {\n",
       "        text-align: right;\n",
       "    }\n",
       "</style>\n",
       "<table border=\"1\" class=\"dataframe\">\n",
       "  <thead>\n",
       "    <tr style=\"text-align: right;\">\n",
       "      <th></th>\n",
       "      <th>Happiness Score</th>\n",
       "      <th>Factors Sum</th>\n",
       "    </tr>\n",
       "  </thead>\n",
       "  <tbody>\n",
       "    <tr>\n",
       "      <th>0</th>\n",
       "      <td>7.587</td>\n",
       "      <td>7.58696</td>\n",
       "    </tr>\n",
       "    <tr>\n",
       "      <th>1</th>\n",
       "      <td>7.561</td>\n",
       "      <td>7.56092</td>\n",
       "    </tr>\n",
       "    <tr>\n",
       "      <th>2</th>\n",
       "      <td>7.527</td>\n",
       "      <td>7.52708</td>\n",
       "    </tr>\n",
       "    <tr>\n",
       "      <th>3</th>\n",
       "      <td>7.522</td>\n",
       "      <td>7.52222</td>\n",
       "    </tr>\n",
       "    <tr>\n",
       "      <th>4</th>\n",
       "      <td>7.427</td>\n",
       "      <td>7.42694</td>\n",
       "    </tr>\n",
       "  </tbody>\n",
       "</table>\n",
       "</div>"
      ],
      "text/plain": [
       "   Happiness Score  Factors Sum\n",
       "0            7.587      7.58696\n",
       "1            7.561      7.56092\n",
       "2            7.527      7.52708\n",
       "3            7.522      7.52222\n",
       "4            7.427      7.42694"
      ]
     },
     "execution_count": 8,
     "metadata": {},
     "output_type": "execute_result"
    }
   ],
   "source": [
    "#Calculate the sum of the factor columns in each row.\n",
    "happiness2015['Factors Sum'] = happiness2015[['Economy', 'Family', 'Health', 'Freedom', 'Trust', 'Generosity', 'Dystopia Residual']].sum(axis=1)\n",
    "\n",
    "#Display the first five rows of the result and the Happiness Score column.\n",
    "happiness2015[['Happiness Score', 'Factors Sum']].head()"
   ]
  },
  {
   "cell_type": "code",
   "execution_count": 9,
   "metadata": {
    "scrolled": false
   },
   "outputs": [
    {
     "name": "stdout",
     "output_type": "stream",
     "text": [
      "       Economy     Family     Health    Freedom      Trust  Generosity  \\\n",
      "0    18.406617  17.787136  12.408462   8.772506   5.532885    3.911691   \n",
      "1    17.224177  18.545563  12.535908   8.315963   1.870784    5.770401   \n",
      "2    17.609672  18.075993  11.620035   8.627342   6.424472    4.535539   \n",
      "3    19.396437  17.694097  11.768280   8.903616   4.852832    4.613002   \n",
      "4    17.857681  17.808132  12.193753   8.522553   4.437458    6.168170   \n",
      "..         ...        ...        ...        ...        ...         ...   \n",
      "153   6.409235  22.329004  12.370563  17.085426  15.928139    6.530447   \n",
      "154   8.582335  10.594611   9.553892  14.505988   2.398204    5.467066   \n",
      "155  22.062542  15.798071  24.016301   5.217565   6.289421   15.694943   \n",
      "156   0.526678  14.315663   7.709466   4.079174   3.463683    6.790706   \n",
      "157   7.350476   4.929553  10.018669  12.840085   3.779852    5.875660   \n",
      "\n",
      "     Dystopia Residual  \n",
      "0            33.180177  \n",
      "1            35.736146  \n",
      "2            33.108011  \n",
      "3            32.774661  \n",
      "4            33.011445  \n",
      "..                 ...  \n",
      "153          19.348341  \n",
      "154          48.900599  \n",
      "155          10.930805  \n",
      "156          63.098795  \n",
      "157          55.204650  \n",
      "\n",
      "[158 rows x 7 columns]\n"
     ]
    }
   ],
   "source": [
    "factors = ['Economy', 'Family', 'Health', 'Freedom', 'Trust', 'Generosity', 'Dystopia Residual']\n",
    "def percentages(col):\n",
    "    div=col/happiness2015[\"Happiness Score\"]\n",
    "    pct=div*100\n",
    "    return pct\n",
    "factor_percentages=happiness2015[factors].apply(percentages)\n",
    "print(factor_percentages)"
   ]
  },
  {
   "cell_type": "markdown",
   "metadata": {},
   "source": [
    "### Reshaping Data with the `pd.melt()` Function"
   ]
  },
  {
   "cell_type": "code",
   "execution_count": 10,
   "metadata": {},
   "outputs": [
    {
     "name": "stdout",
     "output_type": "stream",
     "text": [
      "       Country          Region  Happiness Rank  Happiness Score variable  \\\n",
      "0  Switzerland  Western Europe               1            7.587  Economy   \n",
      "1      Iceland  Western Europe               2            7.561  Economy   \n",
      "2      Denmark  Western Europe               3            7.527  Economy   \n",
      "3       Norway  Western Europe               4            7.522  Economy   \n",
      "4       Canada   North America               5            7.427  Economy   \n",
      "\n",
      "     value  Percentage  \n",
      "0  1.39651       18.41  \n",
      "1  1.30232       17.22  \n",
      "2  1.32548       17.61  \n",
      "3  1.45900       19.40  \n",
      "4  1.32629       17.86  \n"
     ]
    }
   ],
   "source": [
    "main_cols = ['Country', 'Region', 'Happiness Rank', 'Happiness Score']\n",
    "factors = ['Economy', 'Family', 'Health', 'Freedom', 'Trust', 'Generosity', 'Dystopia Residual']\n",
    "melt=pd.melt(happiness2015,id_vars=main_cols,value_vars=factors)\n",
    "val_pct=(melt[\"value\"]/melt[\"Happiness Score\"])*100\n",
    "val_pct=(melt[\"value\"]/melt[\"Happiness Score\"])*100\n",
    "Percentage=round(val_pct,2)\n",
    "melt[\"Percentage\"]=Percentage\n",
    "print(melt.head())"
   ]
  },
  {
   "cell_type": "markdown",
   "metadata": {},
   "source": [
    "### Aggregating and Ploting\n",
    "We refer to data in the above format as tidy data. We can learn more about the tidy format (here)[https://www.jstatsoft.org/article/view/v059i10]."
   ]
  },
  {
   "cell_type": "code",
   "execution_count": 11,
   "metadata": {
    "scrolled": true
   },
   "outputs": [
    {
     "data": {
      "text/plain": [
       "<matplotlib.axes._subplots.AxesSubplot at 0x9389f48>"
      ]
     },
     "execution_count": 11,
     "metadata": {},
     "output_type": "execute_result"
    },
    {
     "data": {
      "image/png": "[encoded data removed]",
      "text/plain": [
       "<Figure size 432x288 with 1 Axes>"
      ]
     },
     "metadata": {},
     "output_type": "display_data"
    }
   ],
   "source": [
    "melt = pd.melt(happiness2015, id_vars = ['Country', 'Region', 'Happiness Rank', 'Happiness Score'], value_vars= ['Economy', 'Family', 'Health', 'Freedom', 'Trust', 'Generosity', 'Dystopia Residual'])\n",
    "melt['Percentage'] = round(melt['value']/melt['Happiness Score'] * 100, 2)\n",
    "pv_melt = melt.pivot_table(index='variable', values='value')\n",
    "pv_melt.plot(kind='pie', y='value', legend=False)"
   ]
  },
  {
   "cell_type": "markdown",
   "metadata": {},
   "source": [
    "In this lesson, we learned how to transform data using the Series.map(), Series.apply(), DataFrame.apply(), and DataFrame.applymap() methods along with the pd.melt() function. Below is a summary chart of the differences between the map(), apply(), and applymap() methods:\n",
    "\n",
    "Method\n",
    "Series or Dataframe Method\tApplies Functions Element-wise?\n",
    "Map\tSeries\tYes\n",
    "Apply\tSeries\tYes\n",
    "Applymap\tDataframe\tYes\n",
    "Apply\tDataframe\tNo, applies functions along an axis\n",
    "\n",
    "As we explore pandas, we'll also find that pandas has a method to `\"un-melt\"` the data, or transform rows into columns. This method is called the `df.pivot()` method, not to be confused with the `df.pivot_table()` method used to aggregate data. "
   ]
  }
 ],
 "metadata": {
  "kernelspec": {
   "display_name": "Python 3",
   "language": "python",
   "name": "python3"
  },
  "language_info": {
   "codemirror_mode": {
    "name": "ipython",
    "version": 3
   },
   "file_extension": ".py",
   "mimetype": "text/x-python",
   "name": "python",
   "nbconvert_exporter": "python",
   "pygments_lexer": "ipython3",
   "version": "3.7.6"
  }
 },
 "nbformat": 4,
 "nbformat_minor": 4
}
