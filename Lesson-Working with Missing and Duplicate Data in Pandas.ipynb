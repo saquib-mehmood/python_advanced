{
 "cells": [
  {
   "cell_type": "markdown",
   "metadata": {},
   "source": [
    "# Lesson - Working with Missing and Duplicate Data\n",
    "We have already learned that there are various ways to handle missing data:\n",
    "1. Remove any rows that have missing values.\n",
    "2. Remove any columns that have missing values.\n",
    "3. Fill the missing values with some other value.\n",
    "4. Leave the missing values as is.\n",
    "\n",
    "We will work with datasets World Happiness Reports 2015, 2016 and 2017 modified to contain same country names but with missing values filled up with NAN. Original datasets can be found [here](https://www.kaggle.com/unsdsn/world-happiness#2015.csv)\n",
    "> \n",
    "Country\tRegion\tHappiness Rank\tHappiness Score\tLower Confidence Interval\tUpper Confidence Interval\tEconomy (GDP per Capita)\tFamily\tHealth (Life Expectancy)\tFreedom\tTrust (Government Corruption)\tGenerosity\tDystopia Residual\tYear\n",
    "157\tCentral African Republic\tNaN\tNaN\tNaN\tNaN\tNaN\tNaN\tNaN\tNaN\tNaN\tNaN\tNaN\tNaN\t2016\n"
   ]
  },
  {
   "cell_type": "code",
   "execution_count": 1,
   "metadata": {
    "scrolled": true
   },
   "outputs": [
    {
     "name": "stdout",
     "output_type": "stream",
     "text": [
      "(164, 13)\n",
      "(164, 14)\n",
      "(164, 13)\n",
      "<class 'pandas.core.frame.DataFrame'>\n",
      "RangeIndex: 164 entries, 0 to 163\n",
      "Data columns (total 13 columns):\n",
      " #   Column                         Non-Null Count  Dtype  \n",
      "---  ------                         --------------  -----  \n",
      " 0   Country                        164 non-null    object \n",
      " 1   Region                         158 non-null    object \n",
      " 2   Happiness Rank                 158 non-null    float64\n",
      " 3   Happiness Score                158 non-null    float64\n",
      " 4   Standard Error                 158 non-null    float64\n",
      " 5   Economy (GDP per Capita)       158 non-null    float64\n",
      " 6   Family                         158 non-null    float64\n",
      " 7   Health (Life Expectancy)       158 non-null    float64\n",
      " 8   Freedom                        158 non-null    float64\n",
      " 9   Trust (Government Corruption)  158 non-null    float64\n",
      " 10  Generosity                     158 non-null    float64\n",
      " 11  Dystopia Residual              158 non-null    float64\n",
      " 12  Year                           164 non-null    int64  \n",
      "dtypes: float64(10), int64(1), object(2)\n",
      "memory usage: 16.8+ KB\n",
      "None\n",
      "<class 'pandas.core.frame.DataFrame'>\n",
      "RangeIndex: 164 entries, 0 to 163\n",
      "Data columns (total 14 columns):\n",
      " #   Column                         Non-Null Count  Dtype  \n",
      "---  ------                         --------------  -----  \n",
      " 0   Country                        164 non-null    object \n",
      " 1   Region                         157 non-null    object \n",
      " 2   Happiness Rank                 157 non-null    float64\n",
      " 3   Happiness Score                157 non-null    float64\n",
      " 4   Lower Confidence Interval      157 non-null    float64\n",
      " 5   Upper Confidence Interval      157 non-null    float64\n",
      " 6   Economy (GDP per Capita)       157 non-null    float64\n",
      " 7   Family                         157 non-null    float64\n",
      " 8   Health (Life Expectancy)       157 non-null    float64\n",
      " 9   Freedom                        157 non-null    float64\n",
      " 10  Trust (Government Corruption)  157 non-null    float64\n",
      " 11  Generosity                     157 non-null    float64\n",
      " 12  Dystopia Residual              157 non-null    float64\n",
      " 13  Year                           164 non-null    int64  \n",
      "dtypes: float64(11), int64(1), object(2)\n",
      "memory usage: 18.1+ KB\n",
      "None\n",
      "<class 'pandas.core.frame.DataFrame'>\n",
      "RangeIndex: 164 entries, 0 to 163\n",
      "Data columns (total 13 columns):\n",
      " #   Column                         Non-Null Count  Dtype  \n",
      "---  ------                         --------------  -----  \n",
      " 0   Country                        164 non-null    object \n",
      " 1   Happiness.Rank                 155 non-null    float64\n",
      " 2   Happiness.Score                155 non-null    float64\n",
      " 3   Whisker.high                   155 non-null    float64\n",
      " 4   Whisker.low                    155 non-null    float64\n",
      " 5   Economy..GDP.per.Capita.       155 non-null    float64\n",
      " 6   Family                         155 non-null    float64\n",
      " 7   Health..Life.Expectancy.       155 non-null    float64\n",
      " 8   Freedom                        155 non-null    float64\n",
      " 9   Generosity                     155 non-null    float64\n",
      " 10  Trust..Government.Corruption.  155 non-null    float64\n",
      " 11  Dystopia.Residual              155 non-null    float64\n",
      " 12  Year                           164 non-null    int64  \n",
      "dtypes: float64(11), int64(1), object(1)\n",
      "memory usage: 16.8+ KB\n",
      "None\n"
     ]
    }
   ],
   "source": [
    "import numpy as np\n",
    "import pandas as pd\n",
    "import matplotlib.pyplot as plt\n",
    "happiness2015=pd.read_csv('wh_2015.csv')\n",
    "happiness2016=pd.read_csv('wh_2016.csv')\n",
    "happiness2017=pd.read_csv('wh_2017.csv')\n",
    "print(happiness2015.shape)\n",
    "print(happiness2016.shape)\n",
    "print(happiness2017.shape)\n",
    "print(happiness2015.info())\n",
    "print(happiness2016.info())\n",
    "print(happiness2017.info())"
   ]
  },
  {
   "cell_type": "markdown",
   "metadata": {},
   "source": [
    "### Identifying Missing Values using [`Series.isnull(self)` method](https://pandas.pydata.org/pandas-docs/stable/reference/api/pandas.Series.isnull.html)\n",
    "We use `isnull()` combined with `sum()` to give total no of NAN values for each column"
   ]
  },
  {
   "cell_type": "code",
   "execution_count": 2,
   "metadata": {
    "scrolled": true
   },
   "outputs": [
    {
     "name": "stdout",
     "output_type": "stream",
     "text": [
      "Country                          0\n",
      "Region                           6\n",
      "Happiness Rank                   6\n",
      "Happiness Score                  6\n",
      "Standard Error                   6\n",
      "Economy (GDP per Capita)         6\n",
      "Family                           6\n",
      "Health (Life Expectancy)         6\n",
      "Freedom                          6\n",
      "Trust (Government Corruption)    6\n",
      "Generosity                       6\n",
      "Dystopia Residual                6\n",
      "Year                             0\n",
      "dtype: int64\n",
      "Country                          0\n",
      "Region                           7\n",
      "Happiness Rank                   7\n",
      "Happiness Score                  7\n",
      "Lower Confidence Interval        7\n",
      "Upper Confidence Interval        7\n",
      "Economy (GDP per Capita)         7\n",
      "Family                           7\n",
      "Health (Life Expectancy)         7\n",
      "Freedom                          7\n",
      "Trust (Government Corruption)    7\n",
      "Generosity                       7\n",
      "Dystopia Residual                7\n",
      "Year                             0\n",
      "dtype: int64\n",
      "Country                          0\n",
      "Happiness.Rank                   9\n",
      "Happiness.Score                  9\n",
      "Whisker.high                     9\n",
      "Whisker.low                      9\n",
      "Economy..GDP.per.Capita.         9\n",
      "Family                           9\n",
      "Health..Life.Expectancy.         9\n",
      "Freedom                          9\n",
      "Generosity                       9\n",
      "Trust..Government.Corruption.    9\n",
      "Dystopia.Residual                9\n",
      "Year                             0\n",
      "dtype: int64\n"
     ]
    }
   ],
   "source": [
    "missing_2015=happiness2015.isnull().sum()\n",
    "missing_2016=happiness2016.isnull().sum()\n",
    "missing_2017=happiness2017.isnull().sum()\n",
    "print(missing_2015)\n",
    "print(missing_2016)\n",
    "print(missing_2017)"
   ]
  },
  {
   "cell_type": "markdown",
   "metadata": {},
   "source": [
    "### Correcting Data Cleaning Errors that result in Missing Values\n",
    "We use [pd.conct() method](https://pandas.pydata.org/pandas-docs/stable/reference/api/pandas.concat.html) to combine dataframes, we find a large number of missing values not commensurate with individual dataframes above.\n"
   ]
  },
  {
   "cell_type": "code",
   "execution_count": 3,
   "metadata": {},
   "outputs": [
    {
     "data": {
      "text/plain": [
       "Country                            0\n",
       "Region                           177\n",
       "Happiness Rank                   177\n",
       "Happiness Score                  177\n",
       "Standard Error                   334\n",
       "Economy (GDP per Capita)         177\n",
       "Family                            22\n",
       "Health (Life Expectancy)         177\n",
       "Freedom                           22\n",
       "Trust (Government Corruption)    177\n",
       "Generosity                        22\n",
       "Dystopia Residual                177\n",
       "Year                               0\n",
       "Lower Confidence Interval        335\n",
       "Upper Confidence Interval        335\n",
       "Happiness.Rank                   337\n",
       "Happiness.Score                  337\n",
       "Whisker.high                     337\n",
       "Whisker.low                      337\n",
       "Economy..GDP.per.Capita.         337\n",
       "Health..Life.Expectancy.         337\n",
       "Trust..Government.Corruption.    337\n",
       "Dystopia.Residual                337\n",
       "dtype: int64"
      ]
     },
     "execution_count": 3,
     "metadata": {},
     "output_type": "execute_result"
    }
   ],
   "source": [
    "combined = pd.concat([happiness2015, happiness2016, happiness2017], ignore_index=True)\n",
    "combined.isnull().sum()"
   ]
  },
  {
   "cell_type": "markdown",
   "metadata": {},
   "source": [
    "- We need to start checking if the error is in column names. We can clearly see that the errors are due to incompatible column names and we need to make them identical using `str` operations:\n",
    "> `Series.str.split()`\tSplits each element in the Series.\n",
    "`Series.str.strip()`\tStrips whitespace from each string in the Series.\n",
    "`Series.str.lower()`\tConverts strings in the Series to lowercase.\n",
    "`Series.str.upper()`\tConverts strings in the Series to uppercase.\n",
    "`Series.str.get()`\tRetrieves the ith element of each element in the Series.\n",
    "`Series.str.replace()`\tReplaces a regex or string in the Series with another string.\n",
    "`Series.str.cat()`\tConcatenates strings in a Series.\n",
    "`Series.str.extract()`\tExtracts substrings from the Series matching a regex pattern.<\n",
    "\n",
    "- All letters should be uppercase.\n",
    "- There should be only one space between words.\n",
    "- There should be no parentheses in column names\n",
    " For example, the Health (Life Expectancy) columns should both be renamed to HEALTH LIFE EXPECTANCY."
   ]
  },
  {
   "cell_type": "code",
   "execution_count": 4,
   "metadata": {
    "scrolled": false
   },
   "outputs": [
    {
     "name": "stdout",
     "output_type": "stream",
     "text": [
      "Index(['Country', 'Region', 'Happiness Rank', 'Happiness Score',\n",
      "       'Standard Error', 'Economy (GDP per Capita)', 'Family',\n",
      "       'Health (Life Expectancy)', 'Freedom', 'Trust (Government Corruption)',\n",
      "       'Generosity', 'Dystopia Residual', 'Year'],\n",
      "      dtype='object')\n",
      "Index(['Country', 'Region', 'Happiness Rank', 'Happiness Score',\n",
      "       'Lower Confidence Interval', 'Upper Confidence Interval',\n",
      "       'Economy (GDP per Capita)', 'Family', 'Health (Life Expectancy)',\n",
      "       'Freedom', 'Trust (Government Corruption)', 'Generosity',\n",
      "       'Dystopia Residual', 'Year'],\n",
      "      dtype='object')\n",
      "Index(['Country', 'Happiness.Rank', 'Happiness.Score', 'Whisker.high',\n",
      "       'Whisker.low', 'Economy..GDP.per.Capita.', 'Family',\n",
      "       'Health..Life.Expectancy.', 'Freedom', 'Generosity',\n",
      "       'Trust..Government.Corruption.', 'Dystopia.Residual', 'Year'],\n",
      "      dtype='object')\n"
     ]
    }
   ],
   "source": [
    "print(happiness2015.columns)\n",
    "print(happiness2016.columns)\n",
    "print(happiness2017.columns)"
   ]
  },
  {
   "cell_type": "code",
   "execution_count": 5,
   "metadata": {
    "scrolled": true
   },
   "outputs": [
    {
     "name": "stdout",
     "output_type": "stream",
     "text": [
      "Index(['COUNTRY', 'REGION', 'HAPPINESS RANK', 'HAPPINESS SCORE',\n",
      "       'STANDARD ERROR', 'ECONOMY GDP PER CAPITA', 'FAMILY',\n",
      "       'HEALTH LIFE EXPECTANCY', 'FREEDOM', 'TRUST GOVERNMENT CORRUPTION',\n",
      "       'GENEROSITY', 'DYSTOPIA RESIDUAL', 'YEAR'],\n",
      "      dtype='object')\n",
      "Index(['COUNTRY', 'REGION', 'HAPPINESS RANK', 'HAPPINESS SCORE',\n",
      "       'LOWER CONFIDENCE INTERVAL', 'UPPER CONFIDENCE INTERVAL',\n",
      "       'ECONOMY GDP PER CAPITA', 'FAMILY', 'HEALTH LIFE EXPECTANCY', 'FREEDOM',\n",
      "       'TRUST GOVERNMENT CORRUPTION', 'GENEROSITY', 'DYSTOPIA RESIDUAL',\n",
      "       'YEAR'],\n",
      "      dtype='object')\n",
      "Index(['COUNTRY', 'HAPPINESS RANK', 'HAPPINESS SCORE', 'WHISKER HIGH',\n",
      "       'WHISKER LOW', 'ECONOMY GDP PER CAPITA', 'FAMILY',\n",
      "       'HEALTH LIFE EXPECTANCY', 'FREEDOM', 'GENEROSITY',\n",
      "       'TRUST GOVERNMENT CORRUPTION', 'DYSTOPIA RESIDUAL', 'YEAR'],\n",
      "      dtype='object')\n",
      "COUNTRY                          0\n",
      "REGION                         177\n",
      "HAPPINESS RANK                  22\n",
      "HAPPINESS SCORE                 22\n",
      "STANDARD ERROR                 334\n",
      "ECONOMY GDP PER CAPITA          22\n",
      "FAMILY                          22\n",
      "HEALTH LIFE EXPECTANCY          22\n",
      "FREEDOM                         22\n",
      "TRUST GOVERNMENT CORRUPTION     22\n",
      "GENEROSITY                      22\n",
      "DYSTOPIA RESIDUAL               22\n",
      "YEAR                             0\n",
      "LOWER CONFIDENCE INTERVAL      335\n",
      "UPPER CONFIDENCE INTERVAL      335\n",
      "WHISKER HIGH                   337\n",
      "WHISKER LOW                    337\n",
      "dtype: int64\n"
     ]
    }
   ],
   "source": [
    "happiness2017.columns = happiness2017.columns.str.replace('.', ' ').str.replace('\\s+', ' ').str.strip().str.upper()\n",
    "\n",
    "happiness2015.columns = happiness2015.columns.str.replace('(', '').str.replace(')', '').str.strip().str.upper()\n",
    "happiness2016.columns = happiness2016.columns.str.replace('(', '').str.replace(')', '').str.strip().str.upper()\n",
    "combined=pd.concat([happiness2015,happiness2016,happiness2017],ignore_index=True)\n",
    "missing=combined.isnull().sum()\n",
    "print(happiness2015.columns)\n",
    "print(happiness2016.columns)\n",
    "print(happiness2017.columns)\n",
    "print(missing)"
   ]
  },
  {
   "cell_type": "markdown",
   "metadata": {},
   "source": [
    "### Visualizing Missing Data with a [Seaborn Heatmap](https://seaborn.pydata.org/generated/seaborn.heatmap.html)\n",
    "``` seaborn.heatmap(data, vmin=None, vmax=None, cmap=None, center=None, robust=False, annot=None, fmt='.2g', annot_kws=None, linewidths=0, linecolor='white', cbar=True, cbar_kws=None, cbar_ax=None, square=False, xticklabels='auto', yticklabels='auto', mask=None, ax=None, **kwargs)\n",
    "```\n"
   ]
  },
  {
   "cell_type": "code",
   "execution_count": 6,
   "metadata": {},
   "outputs": [
    {
     "data": {
      "text/plain": [
       "<matplotlib.axes._subplots.AxesSubplot at 0xb030d48>"
      ]
     },
     "execution_count": 6,
     "metadata": {},
     "output_type": "execute_result"
    },
    {
     "data": {
      "image/png": "[encoded data removed]",
      "text/plain": [
       "<Figure size 432x288 with 2 Axes>"
      ]
     },
     "metadata": {
      "needs_background": "light"
     },
     "output_type": "display_data"
    }
   ],
   "source": [
    "import seaborn as sns\n",
    "combined_updated = combined.set_index('YEAR') #Seborn heatmap index/column info for labelling\n",
    "sns.heatmap(combined_updated.isnull(),cbar=True)# For a boolean value only two colors pink=1.0 or True, black=0.0 or False"
   ]
  },
  {
   "cell_type": "markdown",
   "metadata": {},
   "source": [
    "Above, We can make the following observations:\n",
    "\n",
    "- No values are missing in the COUNTRY column.\n",
    "- There are some rows in the 2015, 2016, and 2017 data with missing values in all columns EXCEPT the COUNTRY column.\n",
    "- Some columns only have data populated for one year.\n",
    "- It looks like the REGION data is missing for the year 2017. "
   ]
  },
  {
   "cell_type": "code",
   "execution_count": 7,
   "metadata": {
    "scrolled": true
   },
   "outputs": [
    {
     "name": "stdout",
     "output_type": "stream",
     "text": [
      "164\n"
     ]
    }
   ],
   "source": [
    "regions_2017=combined[combined[\"YEAR\"]==2017]['REGION'] # to confirm whether 'REGION' column Data is missing from happiness2017\n",
    "missing=regions_2017.isnull().sum()\n",
    "print(missing)"
   ]
  },
  {
   "cell_type": "markdown",
   "metadata": {},
   "source": [
    "In order to do fill missing \"REGION\" values for 2017, we'll use the following strategy:\n",
    "\n",
    "- Create a dataframe containing all of the countries and corresponding regions from the happiness2015, happiness2016, and happiness2017 dataframes.\n",
    "- Use the pd.merge() function to assign the REGION in the dataframe above to the corresponding country in combined.\n",
    "- The result will have two region columns - the original column with missing values will be named REGION_x. The updated column without missing values will be named REGION_y. We'll drop REGION_x to eliminate confusion."
   ]
  },
  {
   "cell_type": "code",
   "execution_count": 8,
   "metadata": {
    "scrolled": true
   },
   "outputs": [
    {
     "name": "stdout",
     "output_type": "stream",
     "text": [
      "       COUNTRY          REGION\n",
      "0  Switzerland  Western Europe\n",
      "1      Iceland  Western Europe\n",
      "2      Denmark  Western Europe\n",
      "3       Norway  Western Europe\n",
      "4       Canada   North America\n",
      "               COUNTRY                           REGION\n",
      "159            Namibia      Latin America and Caribbean\n",
      "160        Puerto Rico      Latin America and Caribbean\n",
      "161            Somalia  Middle East and Northern Africa\n",
      "162  Somaliland Region  Middle East and Northern Africa\n",
      "163        South Sudan               Sub-Saharan Africa\n",
      "<class 'pandas.core.frame.DataFrame'>\n",
      "RangeIndex: 164 entries, 0 to 163\n",
      "Data columns (total 2 columns):\n",
      " #   Column   Non-Null Count  Dtype \n",
      "---  ------   --------------  ----- \n",
      " 0   COUNTRY  164 non-null    object\n",
      " 1   REGION   164 non-null    object\n",
      "dtypes: object(2)\n",
      "memory usage: 2.7+ KB\n"
     ]
    },
    {
     "name": "stderr",
     "output_type": "stream",
     "text": [
      "C:\\Users\\pc\\anaconda3\\lib\\site-packages\\pandas\\core\\indexing.py:670: SettingWithCopyWarning: \n",
      "A value is trying to be set on a copy of a slice from a DataFrame\n",
      "\n",
      "See the caveats in the documentation: https://pandas.pydata.org/pandas-docs/stable/user_guide/indexing.html#returning-a-view-versus-a-copy\n",
      "  self._setitem_with_indexer(indexer, value)\n",
      "C:\\Users\\pc\\anaconda3\\lib\\site-packages\\ipykernel_launcher.py:7: SettingWithCopyWarning: \n",
      "A value is trying to be set on a copy of a slice from a DataFrame\n",
      "\n",
      "See the caveats in the documentation: https://pandas.pydata.org/pandas-docs/stable/user_guide/indexing.html#returning-a-view-versus-a-copy\n",
      "  import sys\n"
     ]
    }
   ],
   "source": [
    "regions=happiness2015[['COUNTRY','REGION']]\n",
    "missing_regions=regions['REGION'].isnull()\n",
    "\n",
    "\n",
    "\n",
    "mapping_list=['Latin America and Caribbean','Latin America and Caribbean','Latin America and Caribbean','Middle East and Northern Africa','Middle East and Northern Africa','Sub-Saharan Africa']\n",
    "regions.iloc[-6:,1]=mapping_list#replacing NAN values in REGION column\n",
    "print(regions.head())\n",
    "print(regions.tail())\n",
    "region_groups=regions.groupby('REGION').size()\n",
    "regions.info()\n"
   ]
  },
  {
   "cell_type": "code",
   "execution_count": 9,
   "metadata": {
    "scrolled": true
   },
   "outputs": [
    {
     "name": "stdout",
     "output_type": "stream",
     "text": [
      "<class 'pandas.core.frame.DataFrame'>\n",
      "Int64Index: 492 entries, 0 to 491\n",
      "Data columns (total 18 columns):\n",
      " #   Column                       Non-Null Count  Dtype  \n",
      "---  ------                       --------------  -----  \n",
      " 0   COUNTRY                      492 non-null    object \n",
      " 1   REGION_x                     315 non-null    object \n",
      " 2   HAPPINESS RANK               470 non-null    float64\n",
      " 3   HAPPINESS SCORE              470 non-null    float64\n",
      " 4   STANDARD ERROR               158 non-null    float64\n",
      " 5   ECONOMY GDP PER CAPITA       470 non-null    float64\n",
      " 6   FAMILY                       470 non-null    float64\n",
      " 7   HEALTH LIFE EXPECTANCY       470 non-null    float64\n",
      " 8   FREEDOM                      470 non-null    float64\n",
      " 9   TRUST GOVERNMENT CORRUPTION  470 non-null    float64\n",
      " 10  GENEROSITY                   470 non-null    float64\n",
      " 11  DYSTOPIA RESIDUAL            470 non-null    float64\n",
      " 12  YEAR                         492 non-null    int64  \n",
      " 13  LOWER CONFIDENCE INTERVAL    157 non-null    float64\n",
      " 14  UPPER CONFIDENCE INTERVAL    157 non-null    float64\n",
      " 15  WHISKER HIGH                 155 non-null    float64\n",
      " 16  WHISKER LOW                  155 non-null    float64\n",
      " 17  REGION_y                     492 non-null    object \n",
      "dtypes: float64(14), int64(1), object(3)\n",
      "memory usage: 73.0+ KB\n",
      "None\n"
     ]
    }
   ],
   "source": [
    "combined=pd.merge(left=combined, right=regions,on='COUNTRY',how='left') \n",
    "print(combined.info())"
   ]
  },
  {
   "cell_type": "code",
   "execution_count": 10,
   "metadata": {
    "scrolled": true
   },
   "outputs": [
    {
     "name": "stdout",
     "output_type": "stream",
     "text": [
      "<class 'pandas.core.frame.DataFrame'>\n",
      "Int64Index: 492 entries, 0 to 491\n",
      "Data columns (total 17 columns):\n",
      " #   Column                       Non-Null Count  Dtype  \n",
      "---  ------                       --------------  -----  \n",
      " 0   COUNTRY                      492 non-null    object \n",
      " 1   HAPPINESS RANK               470 non-null    float64\n",
      " 2   HAPPINESS SCORE              470 non-null    float64\n",
      " 3   STANDARD ERROR               158 non-null    float64\n",
      " 4   ECONOMY GDP PER CAPITA       470 non-null    float64\n",
      " 5   FAMILY                       470 non-null    float64\n",
      " 6   HEALTH LIFE EXPECTANCY       470 non-null    float64\n",
      " 7   FREEDOM                      470 non-null    float64\n",
      " 8   TRUST GOVERNMENT CORRUPTION  470 non-null    float64\n",
      " 9   GENEROSITY                   470 non-null    float64\n",
      " 10  DYSTOPIA RESIDUAL            470 non-null    float64\n",
      " 11  YEAR                         492 non-null    int64  \n",
      " 12  LOWER CONFIDENCE INTERVAL    157 non-null    float64\n",
      " 13  UPPER CONFIDENCE INTERVAL    157 non-null    float64\n",
      " 14  WHISKER HIGH                 155 non-null    float64\n",
      " 15  WHISKER LOW                  155 non-null    float64\n",
      " 16  REGION                       492 non-null    object \n",
      "dtypes: float64(14), int64(1), object(2)\n",
      "memory usage: 69.2+ KB\n",
      "None\n",
      "COUNTRY                          0\n",
      "HAPPINESS RANK                  22\n",
      "HAPPINESS SCORE                 22\n",
      "STANDARD ERROR                 334\n",
      "ECONOMY GDP PER CAPITA          22\n",
      "FAMILY                          22\n",
      "HEALTH LIFE EXPECTANCY          22\n",
      "FREEDOM                         22\n",
      "TRUST GOVERNMENT CORRUPTION     22\n",
      "GENEROSITY                      22\n",
      "DYSTOPIA RESIDUAL               22\n",
      "YEAR                             0\n",
      "LOWER CONFIDENCE INTERVAL      335\n",
      "UPPER CONFIDENCE INTERVAL      335\n",
      "WHISKER HIGH                   337\n",
      "WHISKER LOW                    337\n",
      "REGION                           0\n",
      "dtype: int64\n"
     ]
    }
   ],
   "source": [
    "combined=combined.drop('REGION_x',axis=1)#drop extra region column\n",
    "combined.rename({'REGION_y':'REGION'},axis=1,inplace=True)#Renaming 'REGION-y' colum tp 'REGION'\n",
    "print(combined.info())\n",
    "missing=combined.isnull().sum()#check for missing values\n",
    "print(missing)\n"
   ]
  },
  {
   "cell_type": "markdown",
   "metadata": {},
   "source": [
    "### Identifying Duplicate Values\n",
    "We'll use the [`DataFrame.duplicated() method`](https://pandas.pydata.org/pandas-docs/stable/reference/api/pandas.DataFrame.duplicated.html) to check for duplicate values. If no parameters are specified, the method will check for any rows in which all columns have the same values."
   ]
  },
  {
   "cell_type": "code",
   "execution_count": 11,
   "metadata": {},
   "outputs": [
    {
     "name": "stdout",
     "output_type": "stream",
     "text": [
      "Empty DataFrame\n",
      "Columns: [COUNTRY, HAPPINESS RANK, HAPPINESS SCORE, STANDARD ERROR, ECONOMY GDP PER CAPITA, FAMILY, HEALTH LIFE EXPECTANCY, FREEDOM, TRUST GOVERNMENT CORRUPTION, GENEROSITY, DYSTOPIA RESIDUAL, YEAR, LOWER CONFIDENCE INTERVAL, UPPER CONFIDENCE INTERVAL, WHISKER HIGH, WHISKER LOW, REGION]\n",
      "Index: []\n"
     ]
    }
   ],
   "source": [
    "dups=combined.duplicated(['COUNTRY','YEAR'])\n",
    "print(combined[dups])#Empty dataframe is returned signifying that no entry with both Country and Year exists"
   ]
  },
  {
   "cell_type": "markdown",
   "metadata": {},
   "source": [
    "In order to check whether no duplication may be due to random capitalization in `COUNTRY` column we will standardize case for countries and check again. "
   ]
  },
  {
   "cell_type": "code",
   "execution_count": 12,
   "metadata": {
    "scrolled": true
   },
   "outputs": [
    {
     "name": "stdout",
     "output_type": "stream",
     "text": [
      "               COUNTRY  HAPPINESS RANK  HAPPINESS SCORE  STANDARD ERROR  \\\n",
      "162  SOMALILAND REGION             NaN              NaN             NaN   \n",
      "326  SOMALILAND REGION             NaN              NaN             NaN   \n",
      "489  SOMALILAND REGION             NaN              NaN             NaN   \n",
      "\n",
      "     ECONOMY GDP PER CAPITA  FAMILY  HEALTH LIFE EXPECTANCY  FREEDOM  \\\n",
      "162                     NaN     NaN                     NaN      NaN   \n",
      "326                     NaN     NaN                     NaN      NaN   \n",
      "489                     NaN     NaN                     NaN      NaN   \n",
      "\n",
      "     TRUST GOVERNMENT CORRUPTION  GENEROSITY  DYSTOPIA RESIDUAL  YEAR  \\\n",
      "162                          NaN         NaN                NaN  2015   \n",
      "326                          NaN         NaN                NaN  2016   \n",
      "489                          NaN         NaN                NaN  2017   \n",
      "\n",
      "     LOWER CONFIDENCE INTERVAL  UPPER CONFIDENCE INTERVAL  WHISKER HIGH  \\\n",
      "162                        NaN                        NaN           NaN   \n",
      "326                        NaN                        NaN           NaN   \n",
      "489                        NaN                        NaN           NaN   \n",
      "\n",
      "     WHISKER LOW                           REGION  \n",
      "162          NaN  Middle East and Northern Africa  \n",
      "326          NaN               Sub-Saharan Africa  \n",
      "489          NaN               Sub-Saharan Africa  \n"
     ]
    }
   ],
   "source": [
    "combined['COUNTRY']=combined['COUNTRY'].str.upper()\n",
    "\n",
    "dups=combined.duplicated(['COUNTRY','YEAR'])#keep Kwarg is default set to 'first' which omits 1st instance of duplication\n",
    "print(combined[dups])"
   ]
  },
  {
   "cell_type": "code",
   "execution_count": 13,
   "metadata": {
    "scrolled": true
   },
   "outputs": [
    {
     "name": "stdout",
     "output_type": "stream",
     "text": [
      "               COUNTRY  HAPPINESS RANK  HAPPINESS SCORE  STANDARD ERROR  \\\n",
      "90   SOMALILAND REGION            91.0            5.057         0.06161   \n",
      "162  SOMALILAND REGION             NaN              NaN             NaN   \n",
      "260  SOMALILAND REGION            97.0            5.057             NaN   \n",
      "326  SOMALILAND REGION             NaN              NaN             NaN   \n",
      "488  SOMALILAND REGION             NaN              NaN             NaN   \n",
      "489  SOMALILAND REGION             NaN              NaN             NaN   \n",
      "\n",
      "     ECONOMY GDP PER CAPITA   FAMILY  HEALTH LIFE EXPECTANCY  FREEDOM  \\\n",
      "90                  0.18847  0.95152                 0.43873  0.46582   \n",
      "162                     NaN      NaN                     NaN      NaN   \n",
      "260                 0.25558  0.75862                 0.33108  0.39130   \n",
      "326                     NaN      NaN                     NaN      NaN   \n",
      "488                     NaN      NaN                     NaN      NaN   \n",
      "489                     NaN      NaN                     NaN      NaN   \n",
      "\n",
      "     TRUST GOVERNMENT CORRUPTION  GENEROSITY  DYSTOPIA RESIDUAL  YEAR  \\\n",
      "90                       0.39928     0.50318            2.11032  2015   \n",
      "162                          NaN         NaN                NaN  2015   \n",
      "260                      0.36794     0.51479            2.43801  2016   \n",
      "326                          NaN         NaN                NaN  2016   \n",
      "488                          NaN         NaN                NaN  2017   \n",
      "489                          NaN         NaN                NaN  2017   \n",
      "\n",
      "     LOWER CONFIDENCE INTERVAL  UPPER CONFIDENCE INTERVAL  WHISKER HIGH  \\\n",
      "90                         NaN                        NaN           NaN   \n",
      "162                        NaN                        NaN           NaN   \n",
      "260                      4.934                       5.18           NaN   \n",
      "326                        NaN                        NaN           NaN   \n",
      "488                        NaN                        NaN           NaN   \n",
      "489                        NaN                        NaN           NaN   \n",
      "\n",
      "     WHISKER LOW                           REGION  \n",
      "90           NaN               Sub-Saharan Africa  \n",
      "162          NaN  Middle East and Northern Africa  \n",
      "260          NaN  Middle East and Northern Africa  \n",
      "326          NaN               Sub-Saharan Africa  \n",
      "488          NaN  Middle East and Northern Africa  \n",
      "489          NaN               Sub-Saharan Africa  \n"
     ]
    }
   ],
   "source": [
    "combined['COUNTRY']=combined['COUNTRY'].str.upper()\n",
    "\n",
    "dups=combined.duplicated(['COUNTRY','YEAR'],keep=False)#keep Kwarg is now set to 'False' which returns all instances of duplication\n",
    "print(combined[dups])"
   ]
  },
  {
   "cell_type": "markdown",
   "metadata": {},
   "source": [
    "Next, let's use the [`df.drop_duplicates()` method](https://pandas.pydata.org/pandas-docs/stable/reference/api/pandas.DataFrame.drop_duplicates.html) to drop the duplicate rows. Like the `df.duplicated()` method, the `df.drop_duplicates()` method will define duplicates as rows in which all columns have the same values. We'll have to specify that rows with the same values in only the COUNTRY and YEAR columns should be dropped.\n",
    "It's also important to note that by default, the `drop_duplicates() method` will only keep the first duplicate row. To keep the last duplicate row, set the keep parameter to 'last'. Sometimes, this will mean sorting the dataframe before dropping the duplicate rows."
   ]
  },
  {
   "cell_type": "code",
   "execution_count": 14,
   "metadata": {
    "scrolled": false
   },
   "outputs": [
    {
     "name": "stdout",
     "output_type": "stream",
     "text": [
      "Empty DataFrame\n",
      "Columns: [COUNTRY, HAPPINESS RANK, HAPPINESS SCORE, STANDARD ERROR, ECONOMY GDP PER CAPITA, FAMILY, HEALTH LIFE EXPECTANCY, FREEDOM, TRUST GOVERNMENT CORRUPTION, GENEROSITY, DYSTOPIA RESIDUAL, YEAR, LOWER CONFIDENCE INTERVAL, UPPER CONFIDENCE INTERVAL, WHISKER HIGH, WHISKER LOW, REGION]\n",
      "Index: []\n"
     ]
    }
   ],
   "source": [
    "combined['COUNTRY'] = combined['COUNTRY'].str.upper()\n",
    "combined=combined.drop_duplicates(['COUNTRY','YEAR'],keep='first')\n",
    "dups=combined.duplicated(['COUNTRY','YEAR'],keep=False)#keep Kwarg is now set to 'False' which returns all instances of duplication\n",
    "print(combined[dups])#we get empty dataframe, so no instances of duplication where Country and Year are same."
   ]
  },
  {
   "cell_type": "markdown",
   "metadata": {},
   "source": [
    "### Handle Missing Values by Dropping Columns\n",
    "So far, to correct missing values we:\n",
    "- Corrected the errors we made when combining our dataframes.\n",
    "- Used the 2015 and 2016 region values to fill in the missing regions for 2017.\n",
    "\n",
    "Next, we'll consider dropping columns with missing data:\n",
    "- Check for errors in data cleaning/transformation.\n",
    "- Use data from additional sources to fill missing values.\n",
    "- Drop row/column.\n",
    "- Fill missing values with reasonable estimates computed from the available data."
   ]
  },
  {
   "cell_type": "code",
   "execution_count": 15,
   "metadata": {},
   "outputs": [
    {
     "data": {
      "text/plain": [
       "COUNTRY                          0\n",
       "HAPPINESS RANK                  19\n",
       "HAPPINESS SCORE                 19\n",
       "STANDARD ERROR                 331\n",
       "ECONOMY GDP PER CAPITA          19\n",
       "FAMILY                          19\n",
       "HEALTH LIFE EXPECTANCY          19\n",
       "FREEDOM                         19\n",
       "TRUST GOVERNMENT CORRUPTION     19\n",
       "GENEROSITY                      19\n",
       "DYSTOPIA RESIDUAL               19\n",
       "YEAR                             0\n",
       "LOWER CONFIDENCE INTERVAL      332\n",
       "UPPER CONFIDENCE INTERVAL      332\n",
       "WHISKER HIGH                   334\n",
       "WHISKER LOW                    334\n",
       "REGION                           0\n",
       "dtype: int64"
      ]
     },
     "execution_count": 15,
     "metadata": {},
     "output_type": "execute_result"
    }
   ],
   "source": [
    "combined.isnull().sum() # Checking for missing entries in columns"
   ]
  },
  {
   "cell_type": "markdown",
   "metadata": {},
   "source": [
    "We will drop following columns:\n",
    "`STANDARD ERROR`\n",
    "`LOWER CONFIDENCE INTERVAL`\n",
    "`UPPER CONFIDENCE INTERVAL`\n",
    "`WHISKER HIGH`\n",
    "`WHISKER LOW`"
   ]
  },
  {
   "cell_type": "code",
   "execution_count": 16,
   "metadata": {
    "scrolled": true
   },
   "outputs": [
    {
     "data": {
      "text/plain": [
       "COUNTRY                         0\n",
       "HAPPINESS RANK                 19\n",
       "HAPPINESS SCORE                19\n",
       "ECONOMY GDP PER CAPITA         19\n",
       "FAMILY                         19\n",
       "HEALTH LIFE EXPECTANCY         19\n",
       "FREEDOM                        19\n",
       "TRUST GOVERNMENT CORRUPTION    19\n",
       "GENEROSITY                     19\n",
       "DYSTOPIA RESIDUAL              19\n",
       "YEAR                            0\n",
       "REGION                          0\n",
       "dtype: int64"
      ]
     },
     "execution_count": 16,
     "metadata": {},
     "output_type": "execute_result"
    }
   ],
   "source": [
    "columns_to_drop = ['LOWER CONFIDENCE INTERVAL', 'STANDARD ERROR', 'UPPER CONFIDENCE INTERVAL', 'WHISKER HIGH', 'WHISKER LOW']\n",
    "combined_1=combined.drop(columns_to_drop,axis=1)\n",
    "combined_1.isnull().sum()"
   ]
  },
  {
   "cell_type": "markdown",
   "metadata": {},
   "source": [
    "Working with bigger datasets, it can sometimes be tedious to create a long list of column names to drop. Instead we can use the `DataFrame.dropna()` [method](https://pandas.pydata.org/pandas-docs/stable/reference/api/pandas.DataFrame.dropna.html) to complete the same task.\n",
    "By default, the `dropna() method` will drop rows with any missing values. To drop columns, we can set the axis parameter equal to 1, just like with the df.drop() method.\n",
    "\n",
    "As an alternate to naming columns to drop and using `df.drop()` method, we can use `df.dropna()` method and set `thresh` parameter to values of columns that we want to drop after first using `df.notnull().sum()` method to identify number of not-null values in each column. "
   ]
  },
  {
   "cell_type": "code",
   "execution_count": 21,
   "metadata": {
    "scrolled": true
   },
   "outputs": [
    {
     "name": "stdout",
     "output_type": "stream",
     "text": [
      "COUNTRY                        489\n",
      "HAPPINESS RANK                 470\n",
      "HAPPINESS SCORE                470\n",
      "ECONOMY GDP PER CAPITA         470\n",
      "FAMILY                         470\n",
      "HEALTH LIFE EXPECTANCY         470\n",
      "FREEDOM                        470\n",
      "TRUST GOVERNMENT CORRUPTION    470\n",
      "GENEROSITY                     470\n",
      "DYSTOPIA RESIDUAL              470\n",
      "YEAR                           489\n",
      "REGION                         489\n",
      "dtype: int64\n"
     ]
    }
   ],
   "source": [
    "not_null=combined.notnull().sum()\n",
    "print(not_null)"
   ]
  },
  {
   "cell_type": "markdown",
   "metadata": {},
   "source": [
    "Now we can set `thresh` to 159 to drop columns with less than 159 not-null entries"
   ]
  },
  {
   "cell_type": "code",
   "execution_count": 22,
   "metadata": {
    "scrolled": true
   },
   "outputs": [
    {
     "name": "stdout",
     "output_type": "stream",
     "text": [
      "COUNTRY                         0\n",
      "HAPPINESS RANK                 19\n",
      "HAPPINESS SCORE                19\n",
      "ECONOMY GDP PER CAPITA         19\n",
      "FAMILY                         19\n",
      "HEALTH LIFE EXPECTANCY         19\n",
      "FREEDOM                        19\n",
      "TRUST GOVERNMENT CORRUPTION    19\n",
      "GENEROSITY                     19\n",
      "DYSTOPIA RESIDUAL              19\n",
      "YEAR                            0\n",
      "REGION                          0\n",
      "dtype: int64\n"
     ]
    }
   ],
   "source": [
    "combined=combined.dropna(axis=1,how='any',thresh=159,inplace=False)\n",
    "missing=combined.isnull().sum()\n",
    "print(missing)"
   ]
  },
  {
   "cell_type": "markdown",
   "metadata": {},
   "source": [
    "### Analyzing Remaining Missing Data\n",
    "We have to find out if dropping missing entriew will result in loss of valuable data. For this we will create a heatmap after first setting index to `REGION` and sorting values by `REGION` and `Happiness Score`."
   ]
  },
  {
   "cell_type": "code",
   "execution_count": 24,
   "metadata": {
    "scrolled": false
   },
   "outputs": [
    {
     "name": "stdout",
     "output_type": "stream",
     "text": [
      "<class 'pandas.core.frame.DataFrame'>\n",
      "Int64Index: 489 entries, 0 to 491\n",
      "Data columns (total 12 columns):\n",
      " #   Column                       Non-Null Count  Dtype  \n",
      "---  ------                       --------------  -----  \n",
      " 0   COUNTRY                      489 non-null    object \n",
      " 1   HAPPINESS RANK               470 non-null    float64\n",
      " 2   HAPPINESS SCORE              470 non-null    float64\n",
      " 3   ECONOMY GDP PER CAPITA       470 non-null    float64\n",
      " 4   FAMILY                       470 non-null    float64\n",
      " 5   HEALTH LIFE EXPECTANCY       470 non-null    float64\n",
      " 6   FREEDOM                      470 non-null    float64\n",
      " 7   TRUST GOVERNMENT CORRUPTION  470 non-null    float64\n",
      " 8   GENEROSITY                   470 non-null    float64\n",
      " 9   DYSTOPIA RESIDUAL            470 non-null    float64\n",
      " 10  YEAR                         489 non-null    int64  \n",
      " 11  REGION                       489 non-null    object \n",
      "dtypes: float64(9), int64(1), object(2)\n",
      "memory usage: 49.7+ KB\n"
     ]
    }
   ],
   "source": [
    "combined.info()"
   ]
  },
  {
   "cell_type": "code",
   "execution_count": 25,
   "metadata": {},
   "outputs": [
    {
     "data": {
      "text/plain": [
       "<matplotlib.axes._subplots.AxesSubplot at 0xb66f888>"
      ]
     },
     "execution_count": 25,
     "metadata": {},
     "output_type": "execute_result"
    },
    {
     "data": {
      "image/png": "[encoded data removed]",
      "text/plain": [
       "<Figure size 432x288 with 1 Axes>"
      ]
     },
     "metadata": {
      "needs_background": "light"
     },
     "output_type": "display_data"
    }
   ],
   "source": [
    "sorted = combined.set_index('REGION').sort_values(['REGION', 'HAPPINESS SCORE'])\n",
    "sns.heatmap(sorted.isnull(), cbar=False)"
   ]
  },
  {
   "cell_type": "markdown",
   "metadata": {},
   "source": [
    "In the heatmap above, the missing values are represented with light gray and all other values with black. From this visualization, we can confirm that if the data is missing, it's missing in almost every column. We'll conclude that dropping the missing values won't cause us to lose valuable information in other columns.\n",
    "From the visualization above, we can also identify that only three regions contain missing values:\n",
    "- Sub-Saharan Africa\n",
    "- Middle East and Northern Africa\n",
    "- Latin America and Carribbean\n",
    "\n",
    "### Handling Missing Values with Imputation\n",
    "The Sub-Saharan Africa region contains the most missing values, accounting for about 9 percent of that regions's values. Since we'd like to analyze the data according to region, we should also think about how these values impact the analysis for this region specifically.\n",
    "\n",
    "let's consider handling the missing values by replacing them with estimated values, also called imputation.\n",
    "\n",
    "- Check for errors in data cleaning/transformation.\n",
    "- Use data from additional sources to fill missing values.\n",
    "- Drop row/column.\n",
    "- Fill missing values with reasonable estimates computed from the available data.\n",
    "\n",
    "There are many options for choosing the replacement value, including:\n",
    "\n",
    "- A constant value\n",
    "- The mean of the column\n",
    "- The median of the column\n",
    "- The mode of the column\n",
    "For non-numeric columns, common replacement values include the most frequent value or a string like \"Unknown\" that is used to treat missing values as a separate category.\n",
    "For numeric columns, it's very common to replace missing values with the mean. Since the rest of the columns in combined with missing data are all numeric, we'll explore this option.\n",
    "\n",
    "First, we will analyze how replacing missing values with the mean affects the distribution of the data. In order to do so, we'll use the `Series.fillna()` [method](https://pandas.pydata.org/pandas-docs/stable/reference/api/pandas.DataFrame.dropna.html) to replace the missing values with the mean."
   ]
  },
  {
   "cell_type": "code",
   "execution_count": 27,
   "metadata": {
    "scrolled": true
   },
   "outputs": [
    {
     "name": "stdout",
     "output_type": "stream",
     "text": [
      "5.370727659882893\n",
      "5.370727659882894\n",
      "<class 'pandas.core.frame.DataFrame'>\n",
      "Int64Index: 489 entries, 0 to 491\n",
      "Data columns (total 13 columns):\n",
      " #   Column                       Non-Null Count  Dtype  \n",
      "---  ------                       --------------  -----  \n",
      " 0   COUNTRY                      489 non-null    object \n",
      " 1   HAPPINESS RANK               470 non-null    float64\n",
      " 2   HAPPINESS SCORE              470 non-null    float64\n",
      " 3   ECONOMY GDP PER CAPITA       470 non-null    float64\n",
      " 4   FAMILY                       470 non-null    float64\n",
      " 5   HEALTH LIFE EXPECTANCY       470 non-null    float64\n",
      " 6   FREEDOM                      470 non-null    float64\n",
      " 7   TRUST GOVERNMENT CORRUPTION  470 non-null    float64\n",
      " 8   GENEROSITY                   470 non-null    float64\n",
      " 9   DYSTOPIA RESIDUAL            470 non-null    float64\n",
      " 10  YEAR                         489 non-null    int64  \n",
      " 11  REGION                       489 non-null    object \n",
      " 12  HAPPINESS SCORE UPDATED      489 non-null    float64\n",
      "dtypes: float64(10), int64(1), object(2)\n",
      "memory usage: 53.5+ KB\n",
      "None\n"
     ]
    }
   ],
   "source": [
    "happiness_mean=combined['HAPPINESS SCORE'].mean()\n",
    "print(happiness_mean)\n",
    "combined['HAPPINESS SCORE UPDATED']=combined['HAPPINESS SCORE'].fillna(happiness_mean)\n",
    "print(combined['HAPPINESS SCORE UPDATED'].mean())\n",
    "print(combined.info())\n"
   ]
  },
  {
   "cell_type": "markdown",
   "metadata": {},
   "source": [
    "### Dropping Rows\n",
    "We have to analyze `HAPPINESS SCORE` `REGION` wise in order to decide whether `mean` is a good fit for missing values. Below, since Sub Saharan Africa mean values are substantially lower than overall mean, we will drop the rows with null values."
   ]
  },
  {
   "cell_type": "code",
   "execution_count": 29,
   "metadata": {
    "scrolled": true
   },
   "outputs": [
    {
     "data": {
      "text/html": [
       "<div>\n",
       "<style scoped>\n",
       "    .dataframe tbody tr th:only-of-type {\n",
       "        vertical-align: middle;\n",
       "    }\n",
       "\n",
       "    .dataframe tbody tr th {\n",
       "        vertical-align: top;\n",
       "    }\n",
       "\n",
       "    .dataframe thead th {\n",
       "        text-align: right;\n",
       "    }\n",
       "</style>\n",
       "<table border=\"1\" class=\"dataframe\">\n",
       "  <thead>\n",
       "    <tr style=\"text-align: right;\">\n",
       "      <th></th>\n",
       "      <th>HAPPINESS SCORE</th>\n",
       "    </tr>\n",
       "    <tr>\n",
       "      <th>REGION</th>\n",
       "      <th></th>\n",
       "    </tr>\n",
       "  </thead>\n",
       "  <tbody>\n",
       "    <tr>\n",
       "      <th>Australia and New Zealand</th>\n",
       "      <td>7.302500</td>\n",
       "    </tr>\n",
       "    <tr>\n",
       "      <th>Central and Eastern Europe</th>\n",
       "      <td>5.371184</td>\n",
       "    </tr>\n",
       "    <tr>\n",
       "      <th>Eastern Asia</th>\n",
       "      <td>5.632333</td>\n",
       "    </tr>\n",
       "    <tr>\n",
       "      <th>Latin America and Caribbean</th>\n",
       "      <td>6.026357</td>\n",
       "    </tr>\n",
       "    <tr>\n",
       "      <th>Middle East and Northern Africa</th>\n",
       "      <td>5.379426</td>\n",
       "    </tr>\n",
       "    <tr>\n",
       "      <th>North America</th>\n",
       "      <td>7.227167</td>\n",
       "    </tr>\n",
       "    <tr>\n",
       "      <th>Southeastern Asia</th>\n",
       "      <td>5.364077</td>\n",
       "    </tr>\n",
       "    <tr>\n",
       "      <th>Southern Asia</th>\n",
       "      <td>4.590857</td>\n",
       "    </tr>\n",
       "    <tr>\n",
       "      <th>Sub-Saharan Africa</th>\n",
       "      <td>4.114875</td>\n",
       "    </tr>\n",
       "    <tr>\n",
       "      <th>Western Europe</th>\n",
       "      <td>6.693000</td>\n",
       "    </tr>\n",
       "    <tr>\n",
       "      <th>All</th>\n",
       "      <td>5.370728</td>\n",
       "    </tr>\n",
       "  </tbody>\n",
       "</table>\n",
       "</div>"
      ],
      "text/plain": [
       "                                 HAPPINESS SCORE\n",
       "REGION                                          \n",
       "Australia and New Zealand               7.302500\n",
       "Central and Eastern Europe              5.371184\n",
       "Eastern Asia                            5.632333\n",
       "Latin America and Caribbean             6.026357\n",
       "Middle East and Northern Africa         5.379426\n",
       "North America                           7.227167\n",
       "Southeastern Asia                       5.364077\n",
       "Southern Asia                           4.590857\n",
       "Sub-Saharan Africa                      4.114875\n",
       "Western Europe                          6.693000\n",
       "All                                     5.370728"
      ]
     },
     "execution_count": 29,
     "metadata": {},
     "output_type": "execute_result"
    }
   ],
   "source": [
    "combined.pivot_table(index='REGION', values='HAPPINESS SCORE',aggfunc=np.mean, margins=True)"
   ]
  },
  {
   "cell_type": "code",
   "execution_count": 31,
   "metadata": {
    "scrolled": true
   },
   "outputs": [
    {
     "name": "stdout",
     "output_type": "stream",
     "text": [
      "COUNTRY                        0\n",
      "HAPPINESS RANK                 0\n",
      "HAPPINESS SCORE                0\n",
      "ECONOMY GDP PER CAPITA         0\n",
      "FAMILY                         0\n",
      "HEALTH LIFE EXPECTANCY         0\n",
      "FREEDOM                        0\n",
      "TRUST GOVERNMENT CORRUPTION    0\n",
      "GENEROSITY                     0\n",
      "DYSTOPIA RESIDUAL              0\n",
      "YEAR                           0\n",
      "REGION                         0\n",
      "HAPPINESS SCORE UPDATED        0\n",
      "dtype: int64\n",
      "<class 'pandas.core.frame.DataFrame'>\n",
      "Int64Index: 470 entries, 0 to 482\n",
      "Data columns (total 13 columns):\n",
      " #   Column                       Non-Null Count  Dtype  \n",
      "---  ------                       --------------  -----  \n",
      " 0   COUNTRY                      470 non-null    object \n",
      " 1   HAPPINESS RANK               470 non-null    float64\n",
      " 2   HAPPINESS SCORE              470 non-null    float64\n",
      " 3   ECONOMY GDP PER CAPITA       470 non-null    float64\n",
      " 4   FAMILY                       470 non-null    float64\n",
      " 5   HEALTH LIFE EXPECTANCY       470 non-null    float64\n",
      " 6   FREEDOM                      470 non-null    float64\n",
      " 7   TRUST GOVERNMENT CORRUPTION  470 non-null    float64\n",
      " 8   GENEROSITY                   470 non-null    float64\n",
      " 9   DYSTOPIA RESIDUAL            470 non-null    float64\n",
      " 10  YEAR                         470 non-null    int64  \n",
      " 11  REGION                       470 non-null    object \n",
      " 12  HAPPINESS SCORE UPDATED      470 non-null    float64\n",
      "dtypes: float64(10), int64(1), object(2)\n",
      "memory usage: 51.4+ KB\n",
      "None\n"
     ]
    }
   ],
   "source": [
    "combined=combined.dropna(axis=0,how='any',inplace=False)\n",
    "missing=combined.isnull().sum()\n",
    "print(missing)\n",
    "print(combined.info())"
   ]
  },
  {
   "cell_type": "markdown",
   "metadata": {},
   "source": [
    "There is no perfect way to handle missing values and each situation is different, now we know the basic techniques and built some intuition around them to better inform our decisions. Below is the workflow we used to clean missing values:\n",
    "- Check for errors in data cleaning/transformation.\n",
    "- Use data from additional sources to fill missing values.\n",
    "- Drop row/column.\n",
    "- Fill missing values with reasonable estimates computed from the available data.\n",
    "\n",
    "We also started to set a more defined data cleaning workflow, in which we:\n",
    "- Set a goal for the project.\n",
    "- Researched and tried to understand the data.\n",
    "- Determined what data was needed to complete our analysis.\n",
    "- Added columns.\n",
    "- Cleaned specific data types.\n",
    "- Combined data sets.\n",
    "- Removed duplicate values.\n",
    "- Handled the missing values."
   ]
  }
 ],
 "metadata": {
  "kernelspec": {
   "display_name": "Python 3",
   "language": "python",
   "name": "python3"
  },
  "language_info": {
   "codemirror_mode": {
    "name": "ipython",
    "version": 3
   },
   "file_extension": ".py",
   "mimetype": "text/x-python",
   "name": "python",
   "nbconvert_exporter": "python",
   "pygments_lexer": "ipython3",
   "version": "3.7.6"
  }
 },
 "nbformat": 4,
 "nbformat_minor": 4
}
