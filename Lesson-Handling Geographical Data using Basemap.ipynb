{
 "cells": [
  {
   "cell_type": "markdown",
   "metadata": {},
   "source": [
    "# Lesson-Visualizing Geographic Data\n",
    "- In this lesson, we'll explore the fundamentals of geographic coordinate systems and how to work with the basemap library to plot geographic data points on maps. We'll be working with flight data from the (openflights website)[https://openflights.org/data.html].\n",
    "- We will be working with following files. Below are the most pertinent columns from each dataset:\n",
    "\n",
    "  -airlines.csv - data on each airline.\n",
    "\n",
    "    - `country` - where the airline is headquartered.\n",
    "    - `active` - if the airline is still active.\n",
    "  \n",
    "  - airports.csv - data on each airport.\n",
    "\n",
    "    - `name` - name of the airport.\n",
    "    - `city` - city the airport is located.\n",
    "    - `country` - country the airport is located.\n",
    "    - `code` - unique airport code.\n",
    "    - `latitude` - latitude value.\n",
    "    - `longitude` - longitude value.  \n",
    "  \n",
    "  - routes.csv - data on each flight route.\n",
    "\n",
    "    - `airline` - airline for the route.\n",
    "    - `source` - starting city for the route.\n",
    "    - `dest` - destination city for the route. "
   ]
  },
  {
   "cell_type": "code",
   "execution_count": 1,
   "metadata": {},
   "outputs": [],
   "source": [
    "import pandas as pd\n",
    "airlines=pd.read_csv('airlines.csv')\n",
    "airports=pd.read_csv('airports.csv')\n",
    "routes=pd.read_csv('routes.csv')"
   ]
  },
  {
   "cell_type": "code",
   "execution_count": 2,
   "metadata": {},
   "outputs": [
    {
     "name": "stdout",
     "output_type": "stream",
     "text": [
      "id                       1\n",
      "name        Private flight\n",
      "alias                   \\N\n",
      "iata                     -\n",
      "icao                   NaN\n",
      "callsign               NaN\n",
      "country                NaN\n",
      "active                   Y\n",
      "Name: 0, dtype: object\n",
      "<class 'pandas.core.frame.DataFrame'>\n",
      "RangeIndex: 6048 entries, 0 to 6047\n",
      "Data columns (total 8 columns):\n",
      " #   Column    Non-Null Count  Dtype \n",
      "---  ------    --------------  ----- \n",
      " 0   id        6048 non-null   int64 \n",
      " 1   name      6048 non-null   object\n",
      " 2   alias     5614 non-null   object\n",
      " 3   iata      1461 non-null   object\n",
      " 4   icao      5961 non-null   object\n",
      " 5   callsign  5305 non-null   object\n",
      " 6   country   6033 non-null   object\n",
      " 7   active    6048 non-null   object\n",
      "dtypes: int64(1), object(7)\n",
      "memory usage: 378.1+ KB\n",
      "None\n"
     ]
    }
   ],
   "source": [
    "print(airlines.iloc[0])\n",
    "print(airlines.info())\n"
   ]
  },
  {
   "cell_type": "code",
   "execution_count": 3,
   "metadata": {
    "scrolled": true
   },
   "outputs": [
    {
     "name": "stdout",
     "output_type": "stream",
     "text": [
      "id                              1\n",
      "name                       Goroka\n",
      "city                       Goroka\n",
      "country          Papua New Guinea\n",
      "code                          GKA\n",
      "icao                         AYGA\n",
      "latitude                 -6.08169\n",
      "longitude                 145.392\n",
      "altitude                     5282\n",
      "offset                         10\n",
      "dst                             U\n",
      "timezone     Pacific/Port_Moresby\n",
      "Name: 0, dtype: object\n",
      "<class 'pandas.core.frame.DataFrame'>\n",
      "RangeIndex: 8107 entries, 0 to 8106\n",
      "Data columns (total 12 columns):\n",
      " #   Column     Non-Null Count  Dtype  \n",
      "---  ------     --------------  -----  \n",
      " 0   id         8107 non-null   int64  \n",
      " 1   name       8107 non-null   object \n",
      " 2   city       8107 non-null   object \n",
      " 3   country    8107 non-null   object \n",
      " 4   code       5880 non-null   object \n",
      " 5   icao       8043 non-null   object \n",
      " 6   latitude   8107 non-null   float64\n",
      " 7   longitude  8107 non-null   float64\n",
      " 8   altitude   8107 non-null   int64  \n",
      " 9   offset     8107 non-null   float64\n",
      " 10  dst        8107 non-null   object \n",
      " 11  timezone   8107 non-null   object \n",
      "dtypes: float64(3), int64(2), object(7)\n",
      "memory usage: 760.2+ KB\n",
      "None\n"
     ]
    }
   ],
   "source": [
    "print(airports.iloc[0])\n",
    "print(airports.info())\n"
   ]
  },
  {
   "cell_type": "code",
   "execution_count": 4,
   "metadata": {
    "scrolled": true
   },
   "outputs": [
    {
     "name": "stdout",
     "output_type": "stream",
     "text": [
      "airline         2B\n",
      "airline_id     410\n",
      "source         AER\n",
      "source_id     2965\n",
      "dest           KZN\n",
      "dest_id       2990\n",
      "codeshare      NaN\n",
      "stops            0\n",
      "equipment      CR2\n",
      "Name: 0, dtype: object\n",
      "<class 'pandas.core.frame.DataFrame'>\n",
      "RangeIndex: 67663 entries, 0 to 67662\n",
      "Data columns (total 9 columns):\n",
      " #   Column      Non-Null Count  Dtype \n",
      "---  ------      --------------  ----- \n",
      " 0   airline     67663 non-null  object\n",
      " 1   airline_id  67663 non-null  object\n",
      " 2   source      67663 non-null  object\n",
      " 3   source_id   67663 non-null  object\n",
      " 4   dest        67663 non-null  object\n",
      " 5   dest_id     67663 non-null  object\n",
      " 6   codeshare   14597 non-null  object\n",
      " 7   stops       67663 non-null  int64 \n",
      " 8   equipment   67645 non-null  object\n",
      "dtypes: int64(1), object(8)\n",
      "memory usage: 4.6+ MB\n",
      "None\n"
     ]
    }
   ],
   "source": [
    "print(routes.iloc[0])\n",
    "print(routes.info())\n"
   ]
  },
  {
   "cell_type": "markdown",
   "metadata": {},
   "source": [
    "### Install Basemap from Conda\n",
    "-The easiest way to install basemap is through Anaconda. If you're new to Anaconda, we recommend checking out the (installation)[https://matplotlib.org/basemap/] documentation :\n",
    "`conda install basemap`\n",
    "If the above code does not work for you, you can install Basemap through the Linux command line using the following code:\n",
    "`onda install -c conda-forge basemap`\n",
    "The Basemap library has some external dependencies that Anaconda handles the installation for. To test the installation, run the following import code:\n",
    "`from mpl_toolkits.basemap import Basemap`"
   ]
  },
  {
   "cell_type": "code",
   "execution_count": 5,
   "metadata": {
    "scrolled": true
   },
   "outputs": [
    {
     "ename": "KeyError",
     "evalue": "'PROJ_LIB'",
     "output_type": "error",
     "traceback": [
      "\u001b[1;31m---------------------------------------------------------------------------\u001b[0m",
      "\u001b[1;31mKeyError\u001b[0m                                  Traceback (most recent call last)",
      "\u001b[1;32m<ipython-input-5-a010f25c1fd8>\u001b[0m in \u001b[0;36m<module>\u001b[1;34m\u001b[0m\n\u001b[0;32m      2\u001b[0m \u001b[1;32mimport\u001b[0m \u001b[0mmatplotlib\u001b[0m\u001b[1;33m.\u001b[0m\u001b[0mpyplot\u001b[0m \u001b[1;32mas\u001b[0m \u001b[0mplt\u001b[0m\u001b[1;33m\u001b[0m\u001b[1;33m\u001b[0m\u001b[0m\n\u001b[0;32m      3\u001b[0m \u001b[0mget_ipython\u001b[0m\u001b[1;33m(\u001b[0m\u001b[1;33m)\u001b[0m\u001b[1;33m.\u001b[0m\u001b[0mrun_line_magic\u001b[0m\u001b[1;33m(\u001b[0m\u001b[1;34m'matplotlib'\u001b[0m\u001b[1;33m,\u001b[0m \u001b[1;34m'inline'\u001b[0m\u001b[1;33m)\u001b[0m\u001b[1;33m\u001b[0m\u001b[1;33m\u001b[0m\u001b[0m\n\u001b[1;32m----> 4\u001b[1;33m \u001b[1;32mfrom\u001b[0m \u001b[0mmpl_toolkits\u001b[0m\u001b[1;33m.\u001b[0m\u001b[0mbasemap\u001b[0m \u001b[1;32mimport\u001b[0m \u001b[0mBasemap\u001b[0m\u001b[1;33m\u001b[0m\u001b[1;33m\u001b[0m\u001b[0m\n\u001b[0m",
      "\u001b[1;32m~\\anaconda3\\lib\\site-packages\\mpl_toolkits\\basemap\\__init__.py\u001b[0m in \u001b[0;36m<module>\u001b[1;34m\u001b[0m\n\u001b[0;32m    150\u001b[0m \u001b[1;33m\u001b[0m\u001b[0m\n\u001b[0;32m    151\u001b[0m \u001b[1;31m# create dictionary that maps epsg codes to Basemap kwargs.\u001b[0m\u001b[1;33m\u001b[0m\u001b[1;33m\u001b[0m\u001b[1;33m\u001b[0m\u001b[0m\n\u001b[1;32m--> 152\u001b[1;33m \u001b[0mpyproj_datadir\u001b[0m \u001b[1;33m=\u001b[0m \u001b[0mos\u001b[0m\u001b[1;33m.\u001b[0m\u001b[0menviron\u001b[0m\u001b[1;33m[\u001b[0m\u001b[1;34m'PROJ_LIB'\u001b[0m\u001b[1;33m]\u001b[0m\u001b[1;33m\u001b[0m\u001b[1;33m\u001b[0m\u001b[0m\n\u001b[0m\u001b[0;32m    153\u001b[0m \u001b[0mepsgf\u001b[0m \u001b[1;33m=\u001b[0m \u001b[0mopen\u001b[0m\u001b[1;33m(\u001b[0m\u001b[0mos\u001b[0m\u001b[1;33m.\u001b[0m\u001b[0mpath\u001b[0m\u001b[1;33m.\u001b[0m\u001b[0mjoin\u001b[0m\u001b[1;33m(\u001b[0m\u001b[0mbasemap_datadir\u001b[0m\u001b[1;33m,\u001b[0m\u001b[1;34m'epsg'\u001b[0m\u001b[1;33m)\u001b[0m\u001b[1;33m)\u001b[0m\u001b[1;33m\u001b[0m\u001b[1;33m\u001b[0m\u001b[0m\n\u001b[0;32m    154\u001b[0m \u001b[0mepsg_dict\u001b[0m\u001b[1;33m=\u001b[0m\u001b[1;33m{\u001b[0m\u001b[1;33m}\u001b[0m\u001b[1;33m\u001b[0m\u001b[1;33m\u001b[0m\u001b[0m\n",
      "\u001b[1;32m~\\anaconda3\\lib\\os.py\u001b[0m in \u001b[0;36m__getitem__\u001b[1;34m(self, key)\u001b[0m\n\u001b[0;32m    677\u001b[0m         \u001b[1;32mexcept\u001b[0m \u001b[0mKeyError\u001b[0m\u001b[1;33m:\u001b[0m\u001b[1;33m\u001b[0m\u001b[1;33m\u001b[0m\u001b[0m\n\u001b[0;32m    678\u001b[0m             \u001b[1;31m# raise KeyError with the original key value\u001b[0m\u001b[1;33m\u001b[0m\u001b[1;33m\u001b[0m\u001b[1;33m\u001b[0m\u001b[0m\n\u001b[1;32m--> 679\u001b[1;33m             \u001b[1;32mraise\u001b[0m \u001b[0mKeyError\u001b[0m\u001b[1;33m(\u001b[0m\u001b[0mkey\u001b[0m\u001b[1;33m)\u001b[0m \u001b[1;32mfrom\u001b[0m \u001b[1;32mNone\u001b[0m\u001b[1;33m\u001b[0m\u001b[1;33m\u001b[0m\u001b[0m\n\u001b[0m\u001b[0;32m    680\u001b[0m         \u001b[1;32mreturn\u001b[0m \u001b[0mself\u001b[0m\u001b[1;33m.\u001b[0m\u001b[0mdecodevalue\u001b[0m\u001b[1;33m(\u001b[0m\u001b[0mvalue\u001b[0m\u001b[1;33m)\u001b[0m\u001b[1;33m\u001b[0m\u001b[1;33m\u001b[0m\u001b[0m\n\u001b[0;32m    681\u001b[0m \u001b[1;33m\u001b[0m\u001b[0m\n",
      "\u001b[1;31mKeyError\u001b[0m: 'PROJ_LIB'"
     ]
    }
   ],
   "source": [
    "import numpy as np\n",
    "import matplotlib.pyplot as plt\n",
    "%matplotlib inline\n",
    "from mpl_toolkits.basemap import Basemap\n"
   ]
  },
  {
   "cell_type": "markdown",
   "metadata": {},
   "source": [
    "## Workflow with Basemap"
   ]
  },
  {
   "cell_type": "code",
   "execution_count": null,
   "metadata": {},
   "outputs": [],
   "source": [
    "import numpy as np\n",
    "import matplotlib.pyplot as plt\n",
    "from mpl_toolkits.basemap import Basemap\n",
    "m=Basemap(llcrnrlat=-80,urcrnrlat=80,llcrnrlon=-180,urcrnrlon=180,projection='merc')\n"
   ]
  },
  {
   "cell_type": "markdown",
   "metadata": {},
   "source": [
    "## Converting from Spherical to Cartesian Coordinates"
   ]
  },
  {
   "cell_type": "code",
   "execution_count": null,
   "metadata": {},
   "outputs": [],
   "source": [
    "m = Basemap(projection='merc', llcrnrlat=-80, urcrnrlat=80, llcrnrlon=-180, urcrnrlon=180)\n",
    "longitudes=airports['longitude'].tolist()\n",
    "latitudes=airports['latitude'].tolist()\n",
    "x,y=m(longitudes,latitudes)"
   ]
  },
  {
   "cell_type": "markdown",
   "metadata": {},
   "source": [
    "## Generating a Scatter Plot"
   ]
  },
  {
   "cell_type": "code",
   "execution_count": null,
   "metadata": {},
   "outputs": [],
   "source": [
    "m = Basemap(projection='merc', llcrnrlat=-80, urcrnrlat=80, llcrnrlon=-180, urcrnrlon=180)\n",
    "x, y = m(longitudes, latitudes)\n",
    "m.scatter(x,y,s=1)\n",
    "plt.show()"
   ]
  },
  {
   "cell_type": "markdown",
   "metadata": {},
   "source": [
    "## Customizing the Map using Basemap"
   ]
  },
  {
   "cell_type": "code",
   "execution_count": null,
   "metadata": {},
   "outputs": [],
   "source": [
    "m = Basemap(projection='merc', llcrnrlat=-80, urcrnrlat=80, llcrnrlon=-180, urcrnrlon=180)\n",
    "longitudes = airports[\"longitude\"].tolist()\n",
    "latitudes = airports[\"latitude\"].tolist()\n",
    "x, y = m(longitudes, latitudes)\n",
    "m.scatter(x, y, s=1)\n",
    "m.drawcoastlines()"
   ]
  },
  {
   "cell_type": "markdown",
   "metadata": {},
   "source": [
    "## Customizing the Map using Matplotlib"
   ]
  },
  {
   "cell_type": "code",
   "execution_count": null,
   "metadata": {},
   "outputs": [],
   "source": [
    "# Add code here, before creating the Basemap instance.\n",
    "fig,x=plt.subplots(figsize=(15,20))\n",
    "plt.title(\"Scaled Up Earth With Coastlines\")\n",
    "m = Basemap(projection='merc', llcrnrlat=-80, urcrnrlat=80, llcrnrlon=-180, urcrnrlon=180)\n",
    "longitudes = airports[\"longitude\"].tolist()\n",
    "latitudes = airports[\"latitude\"].tolist()\n",
    "x, y = m(longitudes, latitudes)\n",
    "m.scatter(x, y, s=1)\n",
    "m.drawcoastlines()\n",
    "plt.show()"
   ]
  },
  {
   "cell_type": "markdown",
   "metadata": {},
   "source": [
    "## Introduction to Great Circles\n",
    "We use the basemap.drawgreatcircle() method to display a great circle between 2 points. The basemap.drawgreatcircle() method requires four parameters in the following order:\n",
    "\n",
    "lon1 - longitude of the starting point.\n",
    "lat1 - latitude of the starting point.\n",
    "lon2 - longitude of the ending point.\n",
    "lat2 - latitude of the ending point.\n",
    "```\n",
    "m.drawgreatcircle(39.956589, 43.449928, 49.278728, 55.606186)\n",
    "m.drawgreatcircle(48.006278, 46.283333, 49.278728, 55.606186)\n",
    "m.drawgreatcircle(39.956589, 43.449928, 43.081889 , 44.225072)\n",
    "```"
   ]
  },
  {
   "cell_type": "code",
   "execution_count": null,
   "metadata": {},
   "outputs": [],
   "source": [
    "geo_routes=pd.read_csv('geo_routes.csv')\n",
    "geo_routes.info()\n",
    "print(geo_routes[:5])"
   ]
  },
  {
   "cell_type": "markdown",
   "metadata": {},
   "source": [
    "Unfortunately, basemap struggles to create great circles for routes that have an absolute difference of larger than 180 degrees for either the latitude or longitude values. This is because the basemap.drawgreatcircle() method isn't able to create great circles properly when they go outside of the map boundaries. This is mentioned briefly in the documentation for the method:\n",
    "Note: Cannot handle situations in which the great circle intersects the edge of the map projection domain, and then re-enters the domain.\n",
    "\n",
    "\n",
    "Write a function, named `create_great_circles()` that draws a great circle for each route that has an absolute difference in the latitude and longitude values less than 180. This function should:\n",
    "\n",
    "- Accept a dataframe as the sole parameter\n",
    "- iterate over the rows in the dataframe using `DataFrame.iterrows()`\n",
    "- For each row:\n",
    "\n",
    "- Draw a great circle using the four geographic coordinates only if:\n",
    "  - The absolute difference between the latitude values (end_lat and start_lat) is less than 180.\n",
    "  - If the absolute difference between the longitude values (end_lon and start_lon) is less than 180.\n",
    "- Create a filtered dataframe containing just the routes that start at the DFW airport.\n",
    "  - Select only the rows in geo_routes where the value for the source column equals \"DFW\".\n",
    "  - Assign the resulting dataframe to dfw.  \n",
    "- Pass dfw into create_great_circles() and display the plot using the pyplot.show() function.\n",
    "\n"
   ]
  },
  {
   "cell_type": "code",
   "execution_count": null,
   "metadata": {},
   "outputs": [],
   "source": [
    "fig, ax = plt.subplots(figsize=(15,20))\n",
    "m = Basemap(projection='merc', llcrnrlat=-80, urcrnrlat=80, llcrnrlon=-180, urcrnrlon=180)\n",
    "m.drawcoastlines()\n",
    "\n",
    "#Start writing your solution below this line\n",
    "def create_great_circles(df):\n",
    "    for index, row in df.iterrows():\n",
    "        end_lat,start_lat=row['end_lat'],row['start_lat']                   \n",
    "        end_lon,start_lon=row['end_lon'],row['start_lon']\n",
    "        if abs(end_lat-start_lat)<180:\n",
    "            if abs(end_lon-start_lon)<180:\n",
    "                m.drawgreatcircle(start_lon,start_lat,end_lon,end_lat)\n",
    "dfw=geo_routes[geo_routes[\"source\"]=='DFW']  \n",
    "create_great_circles(dfw)\n",
    "plt.show()                                                                                  \n",
    "                                                                                      \n",
    "                                         "
   ]
  },
  {
   "cell_type": "code",
   "execution_count": null,
   "metadata": {},
   "outputs": [],
   "source": [
    "what to do next:\n",
    "\n",
    "Plotting tools:\n",
    "Creating 3D plots using Plotly\n",
    "Creating interactive visualizations using bokeh\n",
    "Creating interactive map visualizations using folium\n",
    "\n",
    "The art and science of data visualization:\n",
    "Visual Display of Quantitative Information\n",
    "Visual Explanations: Images and Quantities, Evidence and Narrative"
   ]
  }
 ],
 "metadata": {
  "kernelspec": {
   "display_name": "Python 3",
   "language": "python",
   "name": "python3"
  },
  "language_info": {
   "codemirror_mode": {
    "name": "ipython",
    "version": 3
   },
   "file_extension": ".py",
   "mimetype": "text/x-python",
   "name": "python",
   "nbconvert_exporter": "python",
   "pygments_lexer": "ipython3",
   "version": "3.7.6"
  }
 },
 "nbformat": 4,
 "nbformat_minor": 4
}
