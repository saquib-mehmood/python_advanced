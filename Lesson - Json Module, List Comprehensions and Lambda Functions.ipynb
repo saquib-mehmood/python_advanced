{
 "cells": [
  {
   "cell_type": "markdown",
   "metadata": {},
   "source": [
    "# Lesson - Json Module, List Comprehensions and Lamnbda Functions  "
   ]
  },
  {
   "cell_type": "code",
   "execution_count": 1,
   "metadata": {},
   "outputs": [],
   "source": [
    "world_cup_str = \"\"\"\n",
    "[\n",
    "    {\n",
    "        \"team_1\": \"France\",\n",
    "        \"team_2\": \"Croatia\",\n",
    "        \"game_type\": \"Final\",\n",
    "        \"score\" : [4, 2]\n",
    "    },\n",
    "    {\n",
    "        \"team_1\": \"Belgium\",\n",
    "        \"team_2\": \"England\",\n",
    "        \"game_type\": \"3rd/4th Playoff\",\n",
    "        \"score\" : [2, 0]\n",
    "    }\n",
    "]\n",
    "\"\"\"\n"
   ]
  },
  {
   "cell_type": "code",
   "execution_count": 2,
   "metadata": {
    "scrolled": true
   },
   "outputs": [
    {
     "name": "stdout",
     "output_type": "stream",
     "text": [
      "[{'team_1': 'France', 'team_2': 'Croatia', 'game_type': 'Final', 'score': [4, 2]}, {'team_1': 'Belgium', 'team_2': 'England', 'game_type': '3rd/4th Playoff', 'score': [2, 0]}]\n"
     ]
    }
   ],
   "source": [
    "import json\n",
    "world_cup_obj=json.loads(world_cup_str)\n",
    "print(world_cup_obj)"
   ]
  },
  {
   "cell_type": "code",
   "execution_count": 3,
   "metadata": {
    "scrolled": true
   },
   "outputs": [
    {
     "name": "stdout",
     "output_type": "stream",
     "text": [
      "<class 'list'>\n",
      "35806\n",
      "<class 'dict'>\n",
      "dict_keys(['author', 'numComments', 'points', 'url', 'storyText', 'createdAt', 'tags', 'createdAtI', 'title', 'objectId'])\n"
     ]
    }
   ],
   "source": [
    "#Reading json file and prelimninary exploration\n",
    "file=open(\"hn_2014.json\")\n",
    "hn=json.load(file)\n",
    "print(type(hn))\n",
    "print(len(hn))\n",
    "print(type(hn[0])) #list entries are dictionaries\n",
    "print(hn[0].keys())"
   ]
  },
  {
   "cell_type": "code",
   "execution_count": 4,
   "metadata": {},
   "outputs": [],
   "source": [
    "# Deleting Dictionary Keys\n",
    "def del_key(dict_, key):\n",
    "    # create a copy so we don't\n",
    "    # modify the original dict\n",
    "    modified_dict = dict_.copy()\n",
    "    del modified_dict[key]\n",
    "    return modified_dict\n",
    "hn_clean=[]\n",
    "for d in hn:\n",
    "    d= del_key(d,'createdAtI')\n",
    "    hn_clean.append(d)"
   ]
  },
  {
   "cell_type": "code",
   "execution_count": 5,
   "metadata": {},
   "outputs": [
    {
     "name": "stdout",
     "output_type": "stream",
     "text": [
      "{'author': 'dragongraphics', 'numComments': 0, 'points': 2, 'url': 'http://ashleynolan.co.uk/blog/are-we-getting-too-sassy', 'storyText': '', 'createdAt': '2014-05-29T08:07:50Z', 'tags': ['story', 'author_dragongraphics', 'story_7815238'], 'title': 'Are we getting too Sassy? Weighing up micro-optimisation vs. maintainability', 'objectId': '7815238'}\n"
     ]
    }
   ],
   "source": [
    "# List Comprehensions\n",
    "hn_clean=[del_key(d,'createdAtI') for d in hn]\n",
    "print(hn_clean[0])"
   ]
  },
  {
   "cell_type": "markdown",
   "metadata": {},
   "source": [
    "- List comprehensions for Transforming and Creating Lists\n",
    "List comprehensions can be used for many different things. Three common applications are:\n",
    "- Transforming a list\n",
    "- Creating a new list\n",
    "- Reducing a list\n",
    "Below, we use a list comprehension to extract the url value from each dictionary in hn_clean and assign the result to urls."
   ]
  },
  {
   "cell_type": "code",
   "execution_count": 6,
   "metadata": {},
   "outputs": [
    {
     "name": "stdout",
     "output_type": "stream",
     "text": [
      "['http://ashleynolan.co.uk/blog/are-we-getting-too-sassy', 'http://spectrum.ieee.org/automaton/robotics/home-robots/telemba-telepresence-robot']\n",
      "<class 'list'>\n"
     ]
    }
   ],
   "source": [
    "urls=[d['url'] for d in hn_clean]\n",
    "print(urls[:2])\n",
    "print(type(urls))"
   ]
  },
  {
   "cell_type": "code",
   "execution_count": 7,
   "metadata": {},
   "outputs": [
    {
     "name": "stdout",
     "output_type": "stream",
     "text": [
      "9279\n",
      "9279\n",
      "8\n"
     ]
    }
   ],
   "source": [
    "# Reducing a list using \"if\" statement in List Comprehension\n",
    "\n",
    "has_comments = []\n",
    "\n",
    "for d in hn_clean:  # filtering stories with comments using loop\n",
    "    if d['numComments'] > 0:\n",
    "        has_comments.append(d)\n",
    "\n",
    "num_comments = len(has_comments)\n",
    "print(num_comments)\n",
    "\n",
    "has_comments = [d for d in hn_clean if d['numComments'] > 0] # filtering stories with comments using list comprehension\n",
    "\n",
    "num_comments = len(has_comments)\n",
    "print(num_comments)\n",
    "\n",
    "# Filter hn_clean for entries having greater than 1000 points\n",
    "thousand_points=[d for d in hn_clean if d['points']>1000] \n",
    "num_thousand_points=len(thousand_points)\n",
    "print(num_thousand_points)\n"
   ]
  },
  {
   "cell_type": "code",
   "execution_count": 8,
   "metadata": {},
   "outputs": [
    {
     "name": "stdout",
     "output_type": "stream",
     "text": [
      "{'author': 'platz', 'numComments': 1208, 'points': 889, 'url': 'https://blog.mozilla.org/blog/2014/04/03/brendan-eich-steps-down-as-mozilla-ceo/', 'storyText': None, 'createdAt': '2014-04-03T19:02:53Z', 'tags': ['story', 'author_platz', 'story_7525198'], 'title': 'Brendan Eich Steps Down as Mozilla CEO', 'objectId': '7525198'}\n"
     ]
    }
   ],
   "source": [
    "# Passing Functions as Arguments\n",
    "def key_func(hn_dict):\n",
    "    return hn_dict['numComments']\n",
    "most_comments=max(hn_clean,key=key_func)\n",
    "print(most_comments)"
   ]
  },
  {
   "cell_type": "code",
   "execution_count": 9,
   "metadata": {},
   "outputs": [
    {
     "data": {
      "text/plain": [
       "<function __main__.<lambda>(a, b)>"
      ]
     },
     "execution_count": 9,
     "metadata": {},
     "output_type": "execute_result"
    }
   ],
   "source": [
    "# Lambda Functions e.g. lambda x:x or lambda x:x+1\n",
    "# For following function write lambda function:\n",
    "# def multiply(a, b):\n",
    "#    return a * b\n",
    "lambda a,b:a*b"
   ]
  },
  {
   "cell_type": "code",
   "execution_count": 10,
   "metadata": {},
   "outputs": [
    {
     "name": "stdout",
     "output_type": "stream",
     "text": [
      "['2048', 'Today is The Day We Fight Back', 'Wozniak: “Actually, the movie was largely a lie about me”', 'Microsoft Open Sources C# Compiler', 'Elon Musk: To the People of New Jersey']\n"
     ]
    }
   ],
   "source": [
    "# Using Lambda Functions to Analyze json Data\n",
    "hn_sorted_points=sorted(hn_clean,key=lambda d:d['points'],reverse=True)\n",
    "top_5_titles=[d['title'] for d in hn_sorted_points[:5]]\n",
    "\n",
    "print(top_5_titles[:5])\n"
   ]
  },
  {
   "cell_type": "markdown",
   "metadata": {},
   "source": [
    "### Reading JSON files into pandas\n",
    "- Pandas has the `pandas.read_json()` [function](https://pandas.pydata.org/pandas-docs/stable/reference/api/pandas.read_json.html), which is designed to read JSON from either a file or a JSON string.\n",
    "- If already a Python obj through conversion using `json.loads()` or `json.load()` we can simply use the `pandas.DataFrame()` [constructor](https://pandas.pydata.org/pandas-docs/stable/reference/api/pandas.DataFrame.html#pandas.DataFrame) and pass the list of dictionaries directly to it to convert the JSON to a dataframe:\n",
    "```\n",
    "import json\n",
    "json_obj=json.loads(json_str)\n",
    "print(world_cup_obj)\n",
    "\n",
    "import pandas as pd\n",
    "json_df = pd.DataFrame(json_obj)\n",
    "print(json_df)\n",
    "\n",
    "age                 favorite_foods    name\n",
    "0   36             [Pumpkin, Oatmeal]  Sabine\n",
    "1   40    [Chicken, Pizza, Chocolate]     Zoe\n",
    "2   40                 [Caesar Salad]   Heidi\n",
    "```"
   ]
  },
  {
   "cell_type": "code",
   "execution_count": 11,
   "metadata": {
    "scrolled": true
   },
   "outputs": [
    {
     "name": "stdout",
     "output_type": "stream",
     "text": [
      "           author  numComments  points  \\\n",
      "0  dragongraphics            0       2   \n",
      "1             jcr            0       1   \n",
      "\n",
      "                                                 url storyText  \\\n",
      "0  http://ashleynolan.co.uk/blog/are-we-getting-t...             \n",
      "1  http://spectrum.ieee.org/automaton/robotics/ho...             \n",
      "\n",
      "              createdAt                                           tags  \\\n",
      "0  2014-05-29T08:07:50Z  [story, author_dragongraphics, story_7815238]   \n",
      "1  2014-05-29T08:05:58Z             [story, author_jcr, story_7815234]   \n",
      "\n",
      "                                               title objectId  \n",
      "0  Are we getting too Sassy? Weighing up micro-op...  7815238  \n",
      "1  Telemba Turns Your Old Roomba and Tablet Into ...  7815234  \n"
     ]
    }
   ],
   "source": [
    "import pandas as pd\n",
    "hn_df=pd.DataFrame(hn_clean)\n",
    "print(hn_df.head(2))"
   ]
  },
  {
   "cell_type": "code",
   "execution_count": 12,
   "metadata": {},
   "outputs": [
    {
     "name": "stdout",
     "output_type": "stream",
     "text": [
      "object\n",
      "<class 'list'>    35806\n",
      "Name: tags, dtype: int64\n"
     ]
    }
   ],
   "source": [
    "# Above the column 'tags' seems to be a list\n",
    "\n",
    "tags = hn_df['tags']\n",
    "print(tags.dtype) # stored as object type by Pandas\n",
    "tags_types = tags.apply(type) # the object type items are list type\n",
    "type_counts = tags_types.value_counts(dropna=False)\n",
    "print(type_counts)"
   ]
  },
  {
   "cell_type": "code",
   "execution_count": 13,
   "metadata": {
    "scrolled": true
   },
   "outputs": [
    {
     "name": "stdout",
     "output_type": "stream",
     "text": [
      "2347\n"
     ]
    }
   ],
   "source": [
    "tags = hn_df['tags']\n",
    "four_tags=tags[tags.apply(len)==4] #filtering tags lists with 4 values\n",
    "print(four_tags.count())"
   ]
  },
  {
   "cell_type": "markdown",
   "metadata": {},
   "source": [
    "#### Extracting tags using apply() with a lambda function\n",
    "- We can use following code to extract last (4th) item in tags;\n",
    "```\n",
    "def extract_tag(l):\n",
    "    if len(l) == 4:\n",
    "        return l[-1]\n",
    "    else:\n",
    "        return None\n",
    " ```\n",
    "We could then use `Series.apply()` to apply this function as is to the series.        \n",
    "-  But We will use a special version of an `if` statement `ternary operator`. `[on_true] if [expression] else [on_false]` to practice working with lambda functions."
   ]
  },
  {
   "cell_type": "code",
   "execution_count": 14,
   "metadata": {},
   "outputs": [
    {
     "name": "stdout",
     "output_type": "stream",
     "text": [
      "0    None\n",
      "1    None\n",
      "2    None\n",
      "3    None\n",
      "4    None\n",
      "5    None\n",
      "6    None\n",
      "7    None\n",
      "8    None\n",
      "9    None\n",
      "Name: tags, dtype: object\n"
     ]
    }
   ],
   "source": [
    "# def extract_tag(l):\n",
    "#     return l[-1] if len(l) == 4 else None (logic for below lambda function)\n",
    "cleaned_tags=hn_df['tags'].apply(lambda l: l[-1] if len(l) == 4 else None)\n",
    "hn_df['tags']=cleaned_tags\n",
    "print(hn_df['tags'][:10])"
   ]
  }
 ],
 "metadata": {
  "kernelspec": {
   "display_name": "Python 3",
   "language": "python",
   "name": "python3"
  },
  "language_info": {
   "codemirror_mode": {
    "name": "ipython",
    "version": 3
   },
   "file_extension": ".py",
   "mimetype": "text/x-python",
   "name": "python",
   "nbconvert_exporter": "python",
   "pygments_lexer": "ipython3",
   "version": "3.7.6"
  }
 },
 "nbformat": 4,
 "nbformat_minor": 4
}
