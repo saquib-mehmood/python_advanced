{
 "cells": [
  {
   "cell_type": "markdown",
   "metadata": {},
   "source": [
    "# Challenge - Cleaning Data\n",
    "The Avengers are a well-known and widely-loved team of superheroes in the Marvel universe that were originally introduced in the 1960's comic book series. The recent Disney movies re-popularized them, as part of the new Marvel Cinematic Universe.\n",
    "\n",
    "Because the writers killed off and revived many of the superheroes, the team at FiveThirtyEight was curious to explore data from the Marvel Wikia site further. To learn how they collected their data, which is available in their [GitHub repository](https://github.com/fivethirtyeight/data/tree/master/avengers), read the write-up they published on the [FiveThirtyEight website](https://fivethirtyeight.com/features/avengers-death-comics-age-of-ultron/)."
   ]
  },
  {
   "cell_type": "markdown",
   "metadata": {},
   "source": [
    "import pandas as pd\n",
    "\n",
    "avengers = pd.read_csv(\"avengers.csv\")\n",
    "avengers.head(5)\n",
    "avengers.info()"
   ]
  },
  {
   "cell_type": "code",
   "execution_count": null,
   "metadata": {},
   "outputs": [],
   "source": [
    "import matplotlib.pyplot as plt\n",
    "true_avengers = pd.DataFrame()\n",
    "\n",
    "avengers['Year'].hist()\n",
    "true_avengers=avengers[avengers['Year']>1960]\n",
    "print(true_avengers.info())"
   ]
  },
  {
   "cell_type": "markdown",
   "metadata": {},
   "source": [
    "- Filtering bad data, removing entries for avengers prior to 1960\n",
    "import matplotlib.pyplot as plt\n",
    "true_avengers = pd.DataFrame()\n",
    "\n",
    "avengers['Year'].hist()\n",
    "true_avengers=avengers[avengers['Year']>1960]\n",
    "print(true_avengers.info())"
   ]
  },
  {
   "cell_type": "markdown",
   "metadata": {},
   "source": [
    "- Calculating total number of deaths\n",
    "`Solution 1`complicated\n",
    "```\n",
    "def clean_deaths(row):\n",
    "    num_deaths = 0\n",
    "    columns = ['Death1', 'Death2', 'Death3', 'Death4', 'Death5']\n",
    "    \n",
    "    for c in columns:\n",
    "        death = row[c]\n",
    "        if pd.isnull(death) or death == 'NO':\n",
    "            continue\n",
    "        elif death == 'YES':\n",
    "            num_deaths += 1\n",
    "    return num_deaths\n",
    "true_avengers['Deaths'] = true_avengers.apply(clean_deaths, axis=1)\n",
    "\n",
    "```\n",
    "`Solution 2` Simple\n",
    "```\n",
    "print(true_avengers['Death1'].dtypes)\n",
    "def is_death(x):\n",
    "    \n",
    "    if x=='YES':\n",
    "        return True\n",
    "    else:\n",
    "        return False\n",
    "Death_columns=['Death1','Death2','Death3','Death4','Death5'] \n",
    "dead_avengers=true_avengers[Death_columns]\n",
    "for c in Death_columns:\n",
    "    dead_avengers[c]=dead_avengers[c].apply(is_death)\n",
    "\n",
    "dead_avengers['Deaths']=dead_avengers[Death_columns].sum(axis=1)\n",
    "\n",
    "true_avengers['Deaths']=dead_avengers['Deaths']\n",
    "print(true_avengers['Deaths'].head(20))\n",
    "```"
   ]
  },
  {
   "cell_type": "markdown",
   "metadata": {},
   "source": [
    "- Verifying Years since Joining\n",
    "we want to verify that the Years since joining field accurately reflects the Year column. For example, if an Avenger was introduced in the Year 1960, is the Years since joining value for that Avenger 55?\n",
    "We will:\n",
    "Calculate the number of rows where Years since joining is accurate.\n",
    "- Because this data was created in 2015, use that as the reference year.\n",
    "- We want to know for how many rows `Years since joining` was correctly calculated as the `Year` value subtracted from 2015.\n",
    "- Assign the integer value describing the number of rows with a correct value for `Years since joining` to `joined_accuracy_count`\n",
    "\n",
    "```\n",
    "joined_accuracy_count  = int()\n",
    "print(true_avengers['Year'].dtypes)\n",
    "print(true_avengers['Years since joining'].dtypes)\n",
    "joining=true_avengers[['Year','Years since joining']]\n",
    "joining['length']=2015-joining['Year']\n",
    "print(joining['length'].head(20))\n",
    "joining['accuracy']=joining['length']==joining['Years since joining']\n",
    "print(joining['accuracy'].head(20))\n",
    "joined_accuracy_count=joining['accuracy'].sum()\n",
    "print(joined_accuracy_count)\n",
    "```\n"
   ]
  }
 ],
 "metadata": {
  "kernelspec": {
   "display_name": "Python 3",
   "language": "python",
   "name": "python3"
  },
  "language_info": {
   "codemirror_mode": {
    "name": "ipython",
    "version": 3
   },
   "file_extension": ".py",
   "mimetype": "text/x-python",
   "name": "python",
   "nbconvert_exporter": "python",
   "pygments_lexer": "ipython3",
   "version": "3.7.6"
  }
 },
 "nbformat": 4,
 "nbformat_minor": 4
}
