{
 "cells": [
  {
   "cell_type": "markdown",
   "metadata": {},
   "source": [
    "# [Working with Strings in Pandas](https://pandas.pydata.org/pandas-docs/stable/user_guide/text.html)\n",
    "In this lesson, we'll learn a few string cleaning tasks such as:\n",
    "- Finding specific strings or substrings in columns\n",
    "- Extracting substrings from unstructured data\n",
    "- Removing strings or substrings from a series\n",
    "We'll work with the 2015 World Happiness Report and additional economic data from the World Bank. The data set can be found [here](https://www.kaggle.com/worldbank/world-development-indicators/version/2)"
   ]
  },
  {
   "cell_type": "code",
   "execution_count": 1,
   "metadata": {
    "scrolled": true
   },
   "outputs": [
    {
     "name": "stdout",
     "output_type": "stream",
     "text": [
      "<class 'pandas.core.frame.DataFrame'>\n",
      "RangeIndex: 247 entries, 0 to 246\n",
      "Data columns (total 31 columns):\n",
      " #   Column                                      Non-Null Count  Dtype  \n",
      "---  ------                                      --------------  -----  \n",
      " 0   CountryCode                                 247 non-null    object \n",
      " 1   ShortName                                   247 non-null    object \n",
      " 2   TableName                                   247 non-null    object \n",
      " 3   LongName                                    247 non-null    object \n",
      " 4   Alpha2Code                                  244 non-null    object \n",
      " 5   CurrencyUnit                                214 non-null    object \n",
      " 6   SpecialNotes                                164 non-null    object \n",
      " 7   Region                                      214 non-null    object \n",
      " 8   IncomeGroup                                 214 non-null    object \n",
      " 9   Wb2Code                                     246 non-null    object \n",
      " 10  NationalAccountsBaseYear                    205 non-null    object \n",
      " 11  NationalAccountsReferenceYear               54 non-null     object \n",
      " 12  SnaPriceValuation                           198 non-null    object \n",
      " 13  LendingCategory                             144 non-null    object \n",
      " 14  OtherGroups                                 59 non-null     object \n",
      " 15  SystemOfNationalAccounts                    214 non-null    object \n",
      " 16  AlternativeConversionFactor                 47 non-null     object \n",
      " 17  PppSurveyYear                               191 non-null    object \n",
      " 18  BalanceOfPaymentsManualInUse                181 non-null    object \n",
      " 19  ExternalDebtReportingStatus                 124 non-null    object \n",
      " 20  SystemOfTrade                               200 non-null    object \n",
      " 21  GovernmentAccountingConcept                 161 non-null    object \n",
      " 22  ImfDataDisseminationStandard                183 non-null    object \n",
      " 23  LatestPopulationCensus                      213 non-null    object \n",
      " 24  LatestHouseholdSurvey                       147 non-null    object \n",
      " 25  SourceOfMostRecentIncomeAndExpenditureData  158 non-null    object \n",
      " 26  VitalRegistrationComplete                   112 non-null    object \n",
      " 27  LatestAgriculturalCensus                    142 non-null    object \n",
      " 28  LatestIndustrialData                        113 non-null    float64\n",
      " 29  LatestTradeData                             186 non-null    float64\n",
      " 30  LatestWaterWithdrawalData                   180 non-null    float64\n",
      "dtypes: float64(3), object(28)\n",
      "memory usage: 59.9+ KB\n"
     ]
    }
   ],
   "source": [
    "import numpy as np\n",
    "import pandas as pd\n",
    "happiness2015 = pd.read_csv(\"World_Happiness_2015.csv\")\n",
    "world_dev = pd.read_csv(\"World_dev.csv\")\n",
    "world_dev.info()"
   ]
  },
  {
   "cell_type": "code",
   "execution_count": 2,
   "metadata": {
    "scrolled": true
   },
   "outputs": [
    {
     "name": "stdout",
     "output_type": "stream",
     "text": [
      "<class 'pandas.core.frame.DataFrame'>\n",
      "RangeIndex: 158 entries, 0 to 157\n",
      "Data columns (total 12 columns):\n",
      " #   Column                         Non-Null Count  Dtype  \n",
      "---  ------                         --------------  -----  \n",
      " 0   Country                        158 non-null    object \n",
      " 1   Region                         158 non-null    object \n",
      " 2   Happiness Rank                 158 non-null    int64  \n",
      " 3   Happiness Score                158 non-null    float64\n",
      " 4   Standard Error                 158 non-null    float64\n",
      " 5   Economy (GDP per Capita)       158 non-null    float64\n",
      " 6   Family                         158 non-null    float64\n",
      " 7   Health (Life Expectancy)       158 non-null    float64\n",
      " 8   Freedom                        158 non-null    float64\n",
      " 9   Trust (Government Corruption)  158 non-null    float64\n",
      " 10  Generosity                     158 non-null    float64\n",
      " 11  Dystopia Residual              158 non-null    float64\n",
      "dtypes: float64(9), int64(1), object(2)\n",
      "memory usage: 14.9+ KB\n"
     ]
    }
   ],
   "source": [
    "happiness2015.info()"
   ]
  },
  {
   "cell_type": "markdown",
   "metadata": {},
   "source": [
    "### (Merging the Dataframes)[https://pandas.pydata.org/pandas-docs/stable/reference/api/pandas.DataFrame.merge.html] and (Renaming Exceptionally Long Columns)[https://pandas.pydata.org/pandas-docs/stable/reference/api/pandas.DataFrame.rename.html]"
   ]
  },
  {
   "cell_type": "code",
   "execution_count": 3,
   "metadata": {
    "scrolled": true
   },
   "outputs": [
    {
     "name": "stdout",
     "output_type": "stream",
     "text": [
      "<class 'pandas.core.frame.DataFrame'>\n",
      "Int64Index: 158 entries, 0 to 157\n",
      "Data columns (total 43 columns):\n",
      " #   Column                         Non-Null Count  Dtype  \n",
      "---  ------                         --------------  -----  \n",
      " 0   Country                        158 non-null    object \n",
      " 1   Region_x                       158 non-null    object \n",
      " 2   Happiness Rank                 158 non-null    int64  \n",
      " 3   Happiness Score                158 non-null    float64\n",
      " 4   Standard Error                 158 non-null    float64\n",
      " 5   Economy (GDP per Capita)       158 non-null    float64\n",
      " 6   Family                         158 non-null    float64\n",
      " 7   Health (Life Expectancy)       158 non-null    float64\n",
      " 8   Freedom                        158 non-null    float64\n",
      " 9   Trust (Government Corruption)  158 non-null    float64\n",
      " 10  Generosity                     158 non-null    float64\n",
      " 11  Dystopia Residual              158 non-null    float64\n",
      " 12  CountryCode                    145 non-null    object \n",
      " 13  ShortName                      145 non-null    object \n",
      " 14  TableName                      145 non-null    object \n",
      " 15  LongName                       145 non-null    object \n",
      " 16  Alpha2Code                     144 non-null    object \n",
      " 17  CurrencyUnit                   145 non-null    object \n",
      " 18  SpecialNotes                   93 non-null     object \n",
      " 19  Region_y                       145 non-null    object \n",
      " 20  IncomeGroup                    145 non-null    object \n",
      " 21  Wb2Code                        145 non-null    object \n",
      " 22  NationalAccountsBaseYear       145 non-null    object \n",
      " 23  NationalAccountsReferenceYear  48 non-null     object \n",
      " 24  SnaPriceValuation              145 non-null    object \n",
      " 25  LendingCategory                106 non-null    object \n",
      " 26  OtherGroups                    48 non-null     object \n",
      " 27  SystemOfNationalAccounts       145 non-null    object \n",
      " 28  AlternativeConversionFactor    40 non-null     object \n",
      " 29  PppSurveyYear                  139 non-null    object \n",
      " 30  BalanceOfPaymentsManualInUse   141 non-null    object \n",
      " 31  ExternalDebtReportingStatus    98 non-null     object \n",
      " 32  SystemOfTrade                  143 non-null    object \n",
      " 33  GovernmentAccountingConcept    128 non-null    object \n",
      " 34  ImfDataDisseminationStandard   142 non-null    object \n",
      " 35  LatestPopulationCensus         145 non-null    object \n",
      " 36  LatestHouseholdSurvey          115 non-null    object \n",
      " 37  IESurvey                       130 non-null    object \n",
      " 38  VitalRegistrationComplete      73 non-null     object \n",
      " 39  LatestAgriculturalCensus       116 non-null    object \n",
      " 40  LatestIndustrialData           99 non-null     float64\n",
      " 41  LatestTradeData                139 non-null    float64\n",
      " 42  LatestWaterWithdrawalData      144 non-null    float64\n",
      "dtypes: float64(12), int64(1), object(30)\n",
      "memory usage: 54.3+ KB\n"
     ]
    }
   ],
   "source": [
    "col_renaming = {'SourceOfMostRecentIncomeAndExpenditureData': 'IESurvey'}\n",
    "merged=pd.merge(left=happiness2015,right=world_dev,how='left',left_on='Country',right_on='ShortName')\n",
    "merged=merged.rename(col_renaming,axis=1)\n",
    "merged.info()"
   ]
  },
  {
   "cell_type": "markdown",
   "metadata": {},
   "source": [
    "### Using (`apply()`)[https://pandas.pydata.org/pandas-docs/stable/reference/api/pandas.Series.apply.html] to Transform Strings"
   ]
  },
  {
   "cell_type": "code",
   "execution_count": 4,
   "metadata": {
    "scrolled": false
   },
   "outputs": [
    {
     "name": "stdout",
     "output_type": "stream",
     "text": [
      "0     franc\n",
      "1     krona\n",
      "2     krone\n",
      "3     krone\n",
      "4    dollar\n",
      "Name: Currency Apply, dtype: object\n"
     ]
    }
   ],
   "source": [
    "def extract_last_word(element):\n",
    "    element=str(element)\n",
    "    last_word=element.split()[-1]\n",
    "    return last_word\n",
    "merged['Currency Apply']=merged['CurrencyUnit'].apply(extract_last_word)\n",
    "print(merged['Currency Apply'].head())"
   ]
  },
  {
   "cell_type": "markdown",
   "metadata": {},
   "source": [
    "### Using Vectorized (String Methods)[https://pandas.pydata.org/pandas-docs/stable/user_guide/text.html] instead of `apply()`\n",
    "`Series.str.split()`\tSplits each element in the Series.\n",
    "`Series.str.strip()`\tStrips whitespace from each string in the Series.\n",
    "`Series.str.lower()`\tConverts strings in the Series to lowercase.\n",
    "`Series.str.upper()`\tConverts strings in the Series to uppercase.\n",
    " `Series.str.get()`\t    Retrieves the ith element of each\n",
    "`Series.str.replace()`\tReplaces a regex or string in the Series with another string.\n",
    "`Series.str.cat()`\t    Concatenates strings in a Series.\n",
    "`Series.str.extract()`\tExtracts substrings from the Series matching a regex pattern.\n",
    "\n",
    "- We access these vectorized string methods by adding a str between the Series name and method name:\n",
    "`Series.str.method_name()`\n",
    "- The str attribute indicates that each object in the Series should be treated as a string, without us having to explicitly change the type to a string like we did when using the apply method.\n",
    "- Note that we can also slice each element in the Series to extract characters, but we'd still need to use the str attribute. For example, below we access the first five characters in each element of the CurrencyUnit column:\n",
    "`merged['CurrencyUnit'].str[0:5]`\n",
    "`0    Swiss\n",
    " 1    Icela\n",
    " 2    Danis\n",
    " 3    Norwe\n",
    " 4    Canad\n",
    "Name: CurrencyUnit, dtype: object`\n",
    "- Vectorized string methods can be chained.\n",
    "`merged['CurrencyUnit'].str.upper().str.split()`\n",
    "`0    [AFGHAN, AFGHANI]\n",
    " 1      [ALBANIAN, LEK]\n",
    " 2    [ALGERIAN, DINAR]\n",
    " 3       [U.S., DOLLAR]\n",
    " 4               [EURO]`"
   ]
  },
  {
   "cell_type": "code",
   "execution_count": 5,
   "metadata": {
    "scrolled": true
   },
   "outputs": [
    {
     "name": "stdout",
     "output_type": "stream",
     "text": [
      "0     franc\n",
      "1     krona\n",
      "2     krone\n",
      "3     krone\n",
      "4    dollar\n",
      "Name: Currency Vectorized, dtype: object\n"
     ]
    }
   ],
   "source": [
    "merged['Currency Vectorized']=merged['CurrencyUnit'].str.split().str.get(-1)\n",
    "print(merged['Currency Vectorized'].head())"
   ]
  },
  {
   "cell_type": "markdown",
   "metadata": {},
   "source": [
    "### Exploring Missing Values with Vectorized String Methods\n",
    "Vectorized string methods results in:\n",
    "- Better performance\n",
    "- Code that is easier to read and write\n",
    "First, let's use the `Series.isnull()` method to confirm if there are any missing values in the column: \n",
    "```\n",
    "merged['CurrencyUnit'].isnull().sum()\n",
    "13\n",
    "\n",
    "ef compute_lengths(element):\n",
    "    return len(str(element))\n",
    "lengths_apply = merged['CurrencyUnit'].apply(compute_lengths)\n",
    "lengths_apply.value_counts(dropna=False)\n",
    "\n",
    "14    21\n",
    "4     20\n",
    "12    17\n",
    "13    14\n",
    "3     13\n",
    "15    13\n",
    "16    12\n",
    "18     9\n",
    "17     9\n",
    "11     8\n",
    "22     7\n",
    "25     5\n",
    "19     3\n",
    "9      2\n",
    "26     1\n",
    "20     1\n",
    "23     1\n",
    "10     1\n",
    "39     1\n",
    "```\n",
    "Name: CurrencyUnit, dtype: int64\n",
    "\n",
    "So, we have identified an additional benefit of using vectorized string methods - they exclude missing values:\n",
    "***Automatically excludes missing values***\n",
    "\n"
   ]
  },
  {
   "cell_type": "code",
   "execution_count": 6,
   "metadata": {},
   "outputs": [
    {
     "name": "stdout",
     "output_type": "stream",
     "text": [
      "14.0    21\n",
      "4.0     20\n",
      "12.0    17\n",
      "13.0    14\n",
      "NaN     13\n",
      "15.0    13\n",
      "16.0    12\n",
      "18.0     9\n",
      "17.0     9\n",
      "11.0     8\n",
      "22.0     7\n",
      "25.0     5\n",
      "19.0     3\n",
      "9.0      2\n",
      "10.0     1\n",
      "39.0     1\n",
      "26.0     1\n",
      "23.0     1\n",
      "20.0     1\n",
      "Name: CurrencyUnit, dtype: int64\n"
     ]
    }
   ],
   "source": [
    "lengths=merged['CurrencyUnit'].str.len()\n",
    "value_counts=lengths.value_counts(dropna=False)\n",
    "print(value_counts)"
   ]
  },
  {
   "cell_type": "markdown",
   "metadata": {},
   "source": [
    "### Finding Specific Words in a String\n",
    "We can handle problems like this with `regular expressions`, or `regex` for short. A regular expression is a sequence of characters that describes a search pattern, used to match characters in a string.\n",
    "In pandas, regular expression is integrated with vectorized string methods to make finding and extracting patterns of characters easier. However, the rules for creating regular expressions can be quite complex and can be found [here](https://docs.python.org/3.4/library/re.html)\n",
    "We will use `Series.str.contains()` method' to find exression containing string being searched for."
   ]
  },
  {
   "cell_type": "code",
   "execution_count": 7,
   "metadata": {
    "scrolled": true
   },
   "outputs": [
    {
     "name": "stdout",
     "output_type": "stream",
     "text": [
      "0     NaN\n",
      "1     NaN\n",
      "2     NaN\n",
      "3     NaN\n",
      "4    True\n",
      "Name: SpecialNotes, dtype: object\n"
     ]
    },
    {
     "data": {
      "text/plain": [
       "True     65\n",
       "True     54\n",
       "False    39\n",
       "Name: SpecialNotes, dtype: int64"
      ]
     },
     "execution_count": 7,
     "metadata": {},
     "output_type": "execute_result"
    }
   ],
   "source": [
    "pattern = r\"[Nn]ational accounts\"\n",
    "national_accounts=merged['SpecialNotes'].str.contains(pattern)\n",
    "print(national_accounts.head())\n",
    "national_accounts.value_counts(dropna=False)\n",
    "#boolean indexing to return only the rows containing ''[Nn]ational accounts'\n",
    "# will give value error 'ValueError: cannot mask with array containing NA / NaN values' if na!=False in the method `Series.str.contains(self, pat, case=True, flags=0, na=nan, regex=True)` \n",
    "#merged[national_accounts]# "
   ]
  },
  {
   "cell_type": "code",
   "execution_count": 8,
   "metadata": {
    "scrolled": true
   },
   "outputs": [
    {
     "name": "stdout",
     "output_type": "stream",
     "text": [
      "<class 'pandas.core.frame.DataFrame'>\n",
      "Int64Index: 54 entries, 4 to 157\n",
      "Data columns (total 45 columns):\n",
      " #   Column                         Non-Null Count  Dtype  \n",
      "---  ------                         --------------  -----  \n",
      " 0   Country                        54 non-null     object \n",
      " 1   Region_x                       54 non-null     object \n",
      " 2   Happiness Rank                 54 non-null     int64  \n",
      " 3   Happiness Score                54 non-null     float64\n",
      " 4   Standard Error                 54 non-null     float64\n",
      " 5   Economy (GDP per Capita)       54 non-null     float64\n",
      " 6   Family                         54 non-null     float64\n",
      " 7   Health (Life Expectancy)       54 non-null     float64\n",
      " 8   Freedom                        54 non-null     float64\n",
      " 9   Trust (Government Corruption)  54 non-null     float64\n",
      " 10  Generosity                     54 non-null     float64\n",
      " 11  Dystopia Residual              54 non-null     float64\n",
      " 12  CountryCode                    54 non-null     object \n",
      " 13  ShortName                      54 non-null     object \n",
      " 14  TableName                      54 non-null     object \n",
      " 15  LongName                       54 non-null     object \n",
      " 16  Alpha2Code                     54 non-null     object \n",
      " 17  CurrencyUnit                   54 non-null     object \n",
      " 18  SpecialNotes                   54 non-null     object \n",
      " 19  Region_y                       54 non-null     object \n",
      " 20  IncomeGroup                    54 non-null     object \n",
      " 21  Wb2Code                        54 non-null     object \n",
      " 22  NationalAccountsBaseYear       54 non-null     object \n",
      " 23  NationalAccountsReferenceYear  10 non-null     object \n",
      " 24  SnaPriceValuation              54 non-null     object \n",
      " 25  LendingCategory                44 non-null     object \n",
      " 26  OtherGroups                    15 non-null     object \n",
      " 27  SystemOfNationalAccounts       54 non-null     object \n",
      " 28  AlternativeConversionFactor    16 non-null     object \n",
      " 29  PppSurveyYear                  52 non-null     object \n",
      " 30  BalanceOfPaymentsManualInUse   53 non-null     object \n",
      " 31  ExternalDebtReportingStatus    43 non-null     object \n",
      " 32  SystemOfTrade                  54 non-null     object \n",
      " 33  GovernmentAccountingConcept    49 non-null     object \n",
      " 34  ImfDataDisseminationStandard   53 non-null     object \n",
      " 35  LatestPopulationCensus         54 non-null     object \n",
      " 36  LatestHouseholdSurvey          48 non-null     object \n",
      " 37  IESurvey                       48 non-null     object \n",
      " 38  VitalRegistrationComplete      17 non-null     object \n",
      " 39  LatestAgriculturalCensus       48 non-null     object \n",
      " 40  LatestIndustrialData           36 non-null     float64\n",
      " 41  LatestTradeData                51 non-null     float64\n",
      " 42  LatestWaterWithdrawalData      54 non-null     float64\n",
      " 43  Currency Apply                 54 non-null     object \n",
      " 44  Currency Vectorized            54 non-null     object \n",
      "dtypes: float64(12), int64(1), object(32)\n",
      "memory usage: 19.4+ KB\n",
      "None\n",
      "          Country                   Region_x  Happiness Rank  Happiness Score  \\\n",
      "4          Canada              North America               5            7.427   \n",
      "7          Sweden             Western Europe               8            7.364   \n",
      "8     New Zealand  Australia and New Zealand               9            7.286   \n",
      "9       Australia  Australia and New Zealand              10            7.284   \n",
      "14  United States              North America              15            7.119   \n",
      "\n",
      "    Standard Error  Economy (GDP per Capita)   Family  \\\n",
      "4          0.03553                   1.32629  1.32261   \n",
      "7          0.03157                   1.33171  1.28907   \n",
      "8          0.03371                   1.25018  1.31967   \n",
      "9          0.04083                   1.33358  1.30923   \n",
      "14         0.03839                   1.39451  1.24711   \n",
      "\n",
      "    Health (Life Expectancy)  Freedom  Trust (Government Corruption)  ...  \\\n",
      "4                    0.90563  0.63297                        0.32957  ...   \n",
      "7                    0.91087  0.65980                        0.43844  ...   \n",
      "8                    0.90837  0.63938                        0.42922  ...   \n",
      "9                    0.93156  0.65124                        0.35637  ...   \n",
      "14                   0.86179  0.54604                        0.15890  ...   \n",
      "\n",
      "    LatestPopulationCensus  LatestHouseholdSurvey  \\\n",
      "4                     2011                    NaN   \n",
      "7                     2011                    NaN   \n",
      "8                     2013                    NaN   \n",
      "9                     2011                    NaN   \n",
      "14                    2010                    NaN   \n",
      "\n",
      "                                          IESurvey VitalRegistrationComplete  \\\n",
      "4                   Labor force survey (LFS), 2010                       Yes   \n",
      "7                         Income survey (IS), 2005                       Yes   \n",
      "8                                              NaN                       Yes   \n",
      "9   Expenditure survey/budget survey (ES/BS), 2003                       Yes   \n",
      "14                  Labor force survey (LFS), 2010                       Yes   \n",
      "\n",
      "   LatestAgriculturalCensus LatestIndustrialData LatestTradeData  \\\n",
      "4                      2011               2011.0          2013.0   \n",
      "7                      2010               2010.0          2013.0   \n",
      "8                      2012               2010.0          2013.0   \n",
      "9                      2011               2011.0          2013.0   \n",
      "14                     2012               2008.0          2013.0   \n",
      "\n",
      "   LatestWaterWithdrawalData Currency Apply Currency Vectorized  \n",
      "4                     1986.0         dollar              dollar  \n",
      "7                     2007.0          krona               krona  \n",
      "8                     2002.0         dollar              dollar  \n",
      "9                     2000.0         dollar              dollar  \n",
      "14                    2005.0         dollar              dollar  \n",
      "\n",
      "[5 rows x 45 columns]\n"
     ]
    }
   ],
   "source": [
    "pattern = r\"[Nn]ational accounts\"\n",
    "national_accounts=merged['SpecialNotes'].str.contains(pattern,na=False) #na is set to False\n",
    "merged_national_accounts=merged[national_accounts]\n",
    "print(merged_national_accounts.info())\n",
    "print(merged_national_accounts.head())"
   ]
  },
  {
   "cell_type": "markdown",
   "metadata": {},
   "source": [
    "### Extracting Substrings from a Series using (`Series.str.extract(self, pat, flags=0, expand=True)[source]` method)[https://pandas.pydata.org/pandas-docs/stable/reference/api/pandas.Series.str.extract.html].\n",
    "With regular expressions, we use the following syntax to indicate a character could be a range of numbers: `pattern = r\"[0-9]\"`\n",
    "And we use the following syntax to indicate a character could be a range of letters:\n",
    "```\n",
    "#lowercase letters\n",
    "pattern1 = r\"[a-z]\"\n",
    "\n",
    "#uppercase letters\n",
    "pattern2 = r\"[A-Z]\"\n",
    "```\n",
    "We could also make these ranges more restrictive. For example, if we wanted to find a three character substring in a column that starts with a number between 1 and 6 and ends with two letters of any kind, we could use the following syntax: `pattern = r\"[1-6][a-z][a-z]`\n",
    "If we have a pattern that repeats, we can also use curly brackets { and } to indicate the number of times it repeats: `pattern = r\"[1-6][a-z][a-z]\" = r\"[1-6][a-z]{2}\""
   ]
  },
  {
   "cell_type": "code",
   "execution_count": 9,
   "metadata": {
    "scrolled": true
   },
   "outputs": [
    {
     "data": {
      "text/html": [
       "<div>\n",
       "<style scoped>\n",
       "    .dataframe tbody tr th:only-of-type {\n",
       "        vertical-align: middle;\n",
       "    }\n",
       "\n",
       "    .dataframe tbody tr th {\n",
       "        vertical-align: top;\n",
       "    }\n",
       "\n",
       "    .dataframe thead th {\n",
       "        text-align: right;\n",
       "    }\n",
       "</style>\n",
       "<table border=\"1\" class=\"dataframe\">\n",
       "  <thead>\n",
       "    <tr style=\"text-align: right;\">\n",
       "      <th></th>\n",
       "      <th>0</th>\n",
       "    </tr>\n",
       "  </thead>\n",
       "  <tbody>\n",
       "    <tr>\n",
       "      <th>count</th>\n",
       "      <td>81</td>\n",
       "    </tr>\n",
       "    <tr>\n",
       "      <th>unique</th>\n",
       "      <td>20</td>\n",
       "    </tr>\n",
       "    <tr>\n",
       "      <th>top</th>\n",
       "      <td>2010</td>\n",
       "    </tr>\n",
       "    <tr>\n",
       "      <th>freq</th>\n",
       "      <td>14</td>\n",
       "    </tr>\n",
       "  </tbody>\n",
       "</table>\n",
       "</div>"
      ],
      "text/plain": [
       "           0\n",
       "count     81\n",
       "unique    20\n",
       "top     2010\n",
       "freq      14"
      ]
     },
     "execution_count": 9,
     "metadata": {},
     "output_type": "execute_result"
    }
   ],
   "source": [
    "pattern =r\"([1-2][0-9][0-9][0-9])\"\n",
    "years=merged['SpecialNotes'].str.extract(pattern)\n",
    "years.describe()"
   ]
  },
  {
   "cell_type": "markdown",
   "metadata": {},
   "source": [
    "When we used the Series.str.extract() method, we enclosed our regular expression in parentheses. The parentheses indicate that only the character pattern matched should be extracted and returned in a series. We call this a capturing group. \n",
    "If the capturing group doesn't exist in a row (or there is no match) the value in that row is set to NaN instead.\n",
    "We can also return the results as a dataframe by changing the expand parameter to True.\n",
    "\n"
   ]
  },
  {
   "cell_type": "code",
   "execution_count": 10,
   "metadata": {},
   "outputs": [
    {
     "name": "stdout",
     "output_type": "stream",
     "text": [
      "<class 'pandas.core.frame.DataFrame'>\n",
      "Int64Index: 158 entries, 0 to 157\n",
      "Data columns (total 1 columns):\n",
      " #   Column  Non-Null Count  Dtype \n",
      "---  ------  --------------  ----- \n",
      " 0   0       81 non-null     object\n",
      "dtypes: object(1)\n",
      "memory usage: 2.5+ KB\n"
     ]
    },
    {
     "data": {
      "text/html": [
       "<div>\n",
       "<style scoped>\n",
       "    .dataframe tbody tr th:only-of-type {\n",
       "        vertical-align: middle;\n",
       "    }\n",
       "\n",
       "    .dataframe tbody tr th {\n",
       "        vertical-align: top;\n",
       "    }\n",
       "\n",
       "    .dataframe thead th {\n",
       "        text-align: right;\n",
       "    }\n",
       "</style>\n",
       "<table border=\"1\" class=\"dataframe\">\n",
       "  <thead>\n",
       "    <tr style=\"text-align: right;\">\n",
       "      <th></th>\n",
       "      <th>0</th>\n",
       "    </tr>\n",
       "  </thead>\n",
       "  <tbody>\n",
       "    <tr>\n",
       "      <th>count</th>\n",
       "      <td>81</td>\n",
       "    </tr>\n",
       "    <tr>\n",
       "      <th>unique</th>\n",
       "      <td>20</td>\n",
       "    </tr>\n",
       "    <tr>\n",
       "      <th>top</th>\n",
       "      <td>2010</td>\n",
       "    </tr>\n",
       "    <tr>\n",
       "      <th>freq</th>\n",
       "      <td>14</td>\n",
       "    </tr>\n",
       "  </tbody>\n",
       "</table>\n",
       "</div>"
      ],
      "text/plain": [
       "           0\n",
       "count     81\n",
       "unique    20\n",
       "top     2010\n",
       "freq      14"
      ]
     },
     "execution_count": 10,
     "metadata": {},
     "output_type": "execute_result"
    }
   ],
   "source": [
    "pattern = r\"([1-2][0-9]{3})\" # use {} to indicate repetion for [0-9]\n",
    "years=merged['SpecialNotes'].str.extract(pattern,expand=True)\n",
    "years.info()\n",
    "years.describe()"
   ]
  },
  {
   "cell_type": "markdown",
   "metadata": {},
   "source": [
    "### ### Extracting all Matches of a Pattern  from a Series using [`Series.str.extractall(self, pat, flags=0))`](https://pandas.pydata.org/pandas-docs/stable/reference/api/pandas.Series.str.extractall.html).\n",
    "Above we learned we could use the Series.str.extract() method to extract a pattern of characters from a column as a dataframe by setting the expand parameter equal to True. However, the `Series.str.extract()` method will only extract the first match of the pattern. If we wanted to extract all of the matches, we can use the Series.str.extractall() method.\n",
    "We cab aksi make the results easier to read by using the [`df.set_index()`](https://pandas.pydata.org/pandas-docs/stable/reference/api/pandas.DataFrame.set_index.html) method to set the Country column as the index.\n",
    "We can use a named capturing group. Using a named capturing group means that we can refer to the group by the specified name instead of just a number. We can use the following syntax to add a name: `(?P<Column_Name>...)`.\n",
    "We sill look at the `IESurvey column` next. This column has years in two different formats:\n",
    "`Integrated household survey (IHS), 2012\n",
    "Integrated household survey (IHS), 2010/11`\n"
   ]
  },
  {
   "cell_type": "code",
   "execution_count": 11,
   "metadata": {
    "scrolled": true
   },
   "outputs": [
    {
     "name": "stdout",
     "output_type": "stream",
     "text": [
      "2012    33\n",
      "2010    28\n",
      "2011    22\n",
      "2013    12\n",
      "2009     8\n",
      "2005     6\n",
      "2008     6\n",
      "2007     4\n",
      "2004     3\n",
      "2000     1\n",
      "1995     1\n",
      "1999     1\n",
      "2003     1\n",
      "1998     1\n",
      "1992     1\n",
      "2002     1\n",
      "2006     1\n",
      "Name: Years, dtype: int64\n"
     ]
    }
   ],
   "source": [
    "merged = merged.set_index('Country')\n",
    "pattern = r\"(?P<Years>[1-2][0-9]{3})\"\n",
    "years=merged['IESurvey'].str.extractall(pattern)\n",
    "value_counts=years['Years'].value_counts()\n",
    "print(value_counts)\n"
   ]
  },
  {
   "cell_type": "markdown",
   "metadata": {},
   "source": [
    "### Extracting more than one Group of Patterns from a Series\n",
    "Above, when we tried to extract all of the years from the IESurvey column using the `extractall` method , we were unsuccessful because some of our years had the following format: 2018/19\n",
    "If we wanted to extract the second, abbreviated year, we'd have to specify two more groups - one to extract the / and one to extract the last two digits.\n",
    "```\n",
    "pattern = r\"(?P<First_Year>[1-2][0-9]{3})(/)?(?P<Second_Year>[0-9]{2})?\"\n",
    "years = merged['IESurvey'].str.extractall(pattern)\n",
    "```\n",
    "we also added a question mark, ?, after each of the two new groups to indicate that a match for those groups is optional. This allows us to extract years listed in the yyyy format AND the yyyy/yy format at once.\n",
    "In the following code, we'll extract just the years from the IESurvey column. Then, we'll reformat the second year so that it contains all four digits of the year. We will use "
   ]
  },
  {
   "cell_type": "code",
   "execution_count": 21,
   "metadata": {
    "scrolled": true
   },
   "outputs": [
    {
     "name": "stdout",
     "output_type": "stream",
     "text": [
      "                          First_Year    1 Second_Year\n",
      "Country             match                            \n",
      "Switzerland         0           2004  NaN         NaN\n",
      "Iceland             0           2010  NaN         NaN\n",
      "Denmark             0           2010  NaN         NaN\n",
      "Norway              0           2010  NaN         NaN\n",
      "Canada              0           2010  NaN         NaN\n",
      "Finland             0           2010  NaN         NaN\n",
      "Netherlands         0           2010  NaN         NaN\n",
      "Sweden              0           2005  NaN         NaN\n",
      "Australia           0           2003  NaN         NaN\n",
      "Israel              0           2010  NaN         NaN\n",
      "Costa Rica          0           2012  NaN         NaN\n",
      "Austria             0           2004  NaN         NaN\n",
      "Mexico              0           2012  NaN         NaN\n",
      "United States       0           2010  NaN         NaN\n",
      "Brazil              0           2012  NaN         NaN\n",
      "Ireland             0           2010  NaN         NaN\n",
      "Belgium             0           2000  NaN         NaN\n",
      "United Kingdom      0           2010  NaN         NaN\n",
      "Venezuela           0           2012  NaN         NaN\n",
      "Panama              0           2012  NaN         NaN\n",
      "Germany             0           2010  NaN         NaN\n",
      "Chile               0           2011  NaN         NaN\n",
      "France              0           2005  NaN         NaN\n",
      "Argentina           0           2012  NaN         NaN\n",
      "Czech Republic      0           2012  NaN         NaN\n",
      "Uruguay             0           2013  NaN         NaN\n",
      "Colombia            0           2012  NaN         NaN\n",
      "Thailand            0           2011  NaN         NaN\n",
      "Spain               0           2010  NaN         NaN\n",
      "Suriname            0           1999  NaN         NaN\n",
      "Trinidad and Tobago 0           1992  NaN         NaN\n",
      "El Salvador         0           2012  NaN         NaN\n",
      "Guatemala           0           2011  NaN         NaN\n",
      "Uzbekistan          0           2011  NaN         NaN\n",
      "Japan               0           2008  NaN         NaN\n",
      "Ecuador             0           2013  NaN         NaN\n",
      "Italy               0           2010  NaN         NaN\n",
      "Bolivia             0           2012  NaN         NaN\n",
      "Moldova             0           2012  NaN         NaN\n",
      "Paraguay            0           2013  NaN         NaN\n",
      "                               First_Year    1 Second_Year\n",
      "Country                  match                            \n",
      "Ghana                    0           2012  NaN         NaN\n",
      "Zimbabwe                 0           2011    /        2012\n",
      "Liberia                  0           2007  NaN         NaN\n",
      "India                    0           2011    /        2012\n",
      "Sudan                    0           2009  NaN         NaN\n",
      "Haiti                    0           2012  NaN         NaN\n",
      "Nepal                    0           2010    /        2011\n",
      "Ethiopia                 0           2010    /        2011\n",
      "Sierra Leone             0           2011  NaN         NaN\n",
      "Mauritania               0           2008  NaN         NaN\n",
      "Kenya                    0           2005    /        2006\n",
      "Djibouti                 0           2002  NaN         NaN\n",
      "Armenia                  0           2012  NaN         NaN\n",
      "Botswana                 0           2009    /        2010\n",
      "Georgia                  0           2012  NaN         NaN\n",
      "Malawi                   0           2010    /        2011\n",
      "Sri Lanka                0           2013  NaN         NaN\n",
      "Cameroon                 0           2007  NaN         NaN\n",
      "Bulgaria                 0           2012  NaN         NaN\n",
      "Egypt                    0           2011  NaN         NaN\n",
      "Yemen                    0           2005  NaN         NaN\n",
      "Angola                   0           2008    /        2009\n",
      "Mali                     0           2009    /        2010\n",
      "Comoros                  0           2004  NaN         NaN\n",
      "Uganda                   0           2012    /        2013\n",
      "Senegal                  0           2011  NaN         NaN\n",
      "Gabon                    0           2005  NaN         NaN\n",
      "Niger                    0           2011  NaN         NaN\n",
      "Cambodia                 0           2011  NaN         NaN\n",
      "Tanzania                 0           2011    /        2012\n",
      "Madagascar               0           2010  NaN         NaN\n",
      "Central African Republic 0           2008  NaN         NaN\n",
      "Chad                     0           2011  NaN         NaN\n",
      "Guinea                   0           2012  NaN         NaN\n",
      "Burkina Faso             0           2009  NaN         NaN\n",
      "Afghanistan              0           2008  NaN         NaN\n",
      "Rwanda                   0           2010    /        2011\n",
      "Benin                    0           2011    /        2012\n",
      "Burundi                  0           2006  NaN         NaN\n",
      "Togo                     0           2011  NaN         NaN\n"
     ]
    }
   ],
   "source": [
    "pattern = r\"(?P<First_Year>[1-2][0-9]{3})(/)?(?P<Second_Year>[0-9]{2})?\"# not enclosing '/' in () will have resulting dataframe having only 'First_Year' and 'Second_Year' columns\n",
    "years=merged['IESurvey'].str.extractall(pattern)\n",
    "first_two_year=years['First_Year'].str[:2]\n",
    "years['Second_Year']=first_two_year+years['Second_Year']\n",
    "print(years.head(40))\n",
    "print(years.tail(40))\n"
   ]
  },
  {
   "cell_type": "markdown",
   "metadata": {},
   "source": [
    "### Summary\n",
    "In this lesson, we explored the benefits of using vectorized string methods, along with a couple methods that can be used to perform tasks such as finding substrings, extracting substrings, and removing substrings from columns. You can find the full list of vectorized string methods (here)[https://pandas.pydata.org/pandas-docs/stable/user_guide/text.html].\n",
    "\n",
    "Let's summarize what we learned about the `Series.str.extractall()` method and pandas string operations in the last exercise:\n",
    "\n",
    "- If part of the regex isn't grouped using parantheses, (), it won't be extracted.\n",
    "- When we add a string to a column using the plus sign, +, pandas will add that string to every value in the column. Note that the strings will be added together without any spaces.\n",
    "\n"
   ]
  },
  {
   "cell_type": "code",
   "execution_count": 23,
   "metadata": {},
   "outputs": [
    {
     "name": "stdout",
     "output_type": "stream",
     "text": [
      "Country\n",
      "Switzerland    HIGH OECD\n",
      "Iceland        HIGH OECD\n",
      "Denmark        HIGH OECD\n",
      "Norway         HIGH OECD\n",
      "Canada         HIGH OECD\n",
      "Name: IncomeGroup, dtype: object\n"
     ]
    },
    {
     "data": {
      "image/png": "[encoded data removed]",
      "text/plain": [
       "<Figure size 432x288 with 1 Axes>"
      ]
     },
     "metadata": {
      "needs_background": "light"
     },
     "output_type": "display_data"
    }
   ],
   "source": [
    "merged['IncomeGroup'] = merged['IncomeGroup'].str.replace(' income', '').str.replace(':', '').str.upper()\n",
    "print(merged['IncomeGroup'].head())\n",
    "import matplotlib.pyplot as plt\n",
    "pv_incomes = merged.pivot_table(values='Happiness Score', index='IncomeGroup')\n",
    "pv_incomes.plot(kind='bar', rot=30, ylim=(0,10))\n",
    "plt.show()"
   ]
  }
 ],
 "metadata": {
  "kernelspec": {
   "display_name": "Python 3",
   "language": "python",
   "name": "python3"
  },
  "language_info": {
   "codemirror_mode": {
    "name": "ipython",
    "version": 3
   },
   "file_extension": ".py",
   "mimetype": "text/x-python",
   "name": "python",
   "nbconvert_exporter": "python",
   "pygments_lexer": "ipython3",
   "version": "3.7.6"
  }
 },
 "nbformat": 4,
 "nbformat_minor": 4
}
