{
 "cells": [
  {
   "cell_type": "markdown",
   "metadata": {},
   "source": [
    "## Lesson-Combining Data with Pandas \n",
    "Often, we need additional data to perform analysis or we have the data, but need to pull it from mulitiple sources. In this lesson, we'll learn a couple of different techniques for combining data using pandas to easily handle situations like these.\n",
    "\n",
    "\n",
    "### Combining Dataframes with Concat Function"
   ]
  },
  {
   "cell_type": "code",
   "execution_count": 1,
   "metadata": {},
   "outputs": [],
   "source": [
    "import numpy as np\n",
    "import pandas as pd\n",
    "happiness2015 = pd.read_csv(\"World_Happiness_2015.csv\")\n",
    "happiness2016 = pd.read_csv(\"World_Happiness_2016.csv\")\n",
    "happiness2017 = pd.read_csv(\"World_Happiness_2017.csv\")\n",
    "happiness2015['Year']=2015\n",
    "happiness2016['Year']=2016\n",
    "happiness2017['Year']=2017"
   ]
  },
  {
   "cell_type": "code",
   "execution_count": 3,
   "metadata": {},
   "outputs": [
    {
     "name": "stdout",
     "output_type": "stream",
     "text": [
      "       Country  Happiness Score  Year\n",
      "0  Switzerland            7.587  2015\n",
      "1      Iceland            7.561  2015\n",
      "2      Denmark            7.527  2015\n",
      "0      Denmark            7.526  2016\n",
      "1  Switzerland            7.509  2016\n",
      "2      Iceland            7.501  2016\n",
      "       Country  Happiness Score  Year      Country  Happiness Score  Year\n",
      "0  Switzerland            7.587  2015      Denmark            7.526  2016\n",
      "1      Iceland            7.561  2015  Switzerland            7.509  2016\n",
      "2      Denmark            7.527  2015      Iceland            7.501  2016\n"
     ]
    }
   ],
   "source": [
    "head_2015 = happiness2015[['Country','Happiness Score', 'Year']].head(3)\n",
    "head_2016 = happiness2016[['Country','Happiness Score', 'Year']].head(3)\n",
    "concat_axis0=pd.concat([head_2015,head_2016],axis=0)\n",
    "concat_axis1=pd.concat([head_2015,head_2016],axis=1)\n",
    "\n",
    "print(concat_axis0)\n",
    "print(concat_axis1)"
   ]
  },
  {
   "cell_type": "markdown",
   "metadata": {},
   "source": [
    "### Combining Dataframes with different Dimensions(Shapes)"
   ]
  },
  {
   "cell_type": "code",
   "execution_count": 5,
   "metadata": {
    "scrolled": true
   },
   "outputs": [
    {
     "name": "stdout",
     "output_type": "stream",
     "text": [
      "   Year      Country  Happiness Score  Standard Error\n",
      "0  2015  Switzerland            7.587         0.03411\n",
      "1  2015      Iceland            7.561         0.04884\n",
      "2  2015      Denmark            7.527         0.03328\n",
      "3  2015       Norway            7.522         0.03880\n",
      "0  2016      Denmark            7.526             NaN\n",
      "1  2016  Switzerland            7.509             NaN\n",
      "2  2016      Iceland            7.501             NaN\n"
     ]
    }
   ],
   "source": [
    "head_2015 = happiness2015[['Year','Country','Happiness Score', 'Standard Error']].head(4)\n",
    "head_2016 = happiness2016[['Country','Happiness Score', 'Year']].head(3)\n",
    "concat_axis0=pd.concat([head_2015,head_2016],axis=0)\n",
    "print(concat_axis0)\n"
   ]
  },
  {
   "cell_type": "markdown",
   "metadata": {},
   "source": [
    "### Resetting the Index\n",
    "Use `ignore_index=True`"
   ]
  },
  {
   "cell_type": "code",
   "execution_count": 6,
   "metadata": {
    "scrolled": true
   },
   "outputs": [
    {
     "name": "stdout",
     "output_type": "stream",
     "text": [
      "   Year      Country  Happiness Score  Standard Error\n",
      "0  2015  Switzerland            7.587         0.03411\n",
      "1  2015      Iceland            7.561         0.04884\n",
      "2  2015      Denmark            7.527         0.03328\n",
      "3  2015       Norway            7.522         0.03880\n",
      "4  2016      Denmark            7.526             NaN\n",
      "5  2016  Switzerland            7.509             NaN\n",
      "6  2016      Iceland            7.501             NaN\n"
     ]
    }
   ],
   "source": [
    "head_2015 = happiness2015[['Year','Country','Happiness Score', 'Standard Error']].head(4)\n",
    "head_2016 = happiness2016[['Country','Happiness Score', 'Year']].head(3)\n",
    "concat_axis0=pd.concat([head_2015,head_2016],axis=0,ignore_index=True)\n",
    "print(concat_axis0)"
   ]
  },
  {
   "cell_type": "markdown",
   "metadata": {},
   "source": [
    "### Joining Dataframes using Merge Function\n",
    "Next, we'll explore the (`pd.merge()` function)[https://pandas.pydata.org/pandas-docs/stable/reference/api/pandas.merge.html] - a function that can execute high performance database-style joins. Note that unlike the concat function, the merge function only combines dataframes horizontally (axis=1) and can only combine two dataframes at a time. However, it can be valuable when we need to combine very large dataframes quickly and provides more flexibility in terms of how data can be combined."
   ]
  },
  {
   "cell_type": "code",
   "execution_count": 7,
   "metadata": {},
   "outputs": [
    {
     "name": "stdout",
     "output_type": "stream",
     "text": [
      "  Country  Happiness Rank_x  Year_x  Happiness Rank_y  Year_y\n",
      "0  Norway                 4    2015                 4    2016\n"
     ]
    }
   ],
   "source": [
    "three_2015 = happiness2015[['Country','Happiness Rank','Year']].iloc[2:5]\n",
    "three_2016 = happiness2016[['Country','Happiness Rank','Year']].iloc[2:5]\n",
    "merged=pd.merge(left=three_2015,right=three_2016,on='Country')\n",
    "print(merged)"
   ]
  },
  {
   "cell_type": "markdown",
   "metadata": {},
   "source": [
    "### Inner Join\n",
    "The one country returned above in merged was \"Norway\", the only element that appeared in the Country column in BOTH three_2015 and three_2016.\n",
    "This way of combining, or joining, data is called an `inner join`. An `inner join` returns only the intersection of the keys, or the elements that appear in both dataframes with a common key.\n",
    "\n",
    "### Join Types\n",
    "There are actually four different types of joins:\n",
    "`Inner`: only includes elements that appear in both dataframes with a common key\n",
    "`Outer`: includes all data from both dataframes\n",
    "`Left`: includes all of the rows from the \"left\" dataframe along with any rows from the \"right\" dataframe with a common key; the result retains all columns from both of the original dataframes\n",
    "`Right`: includes all of the rows from the \"right\" dataframe along with any rows from the \"left\" dataframe with a common key; the result retains all columns from both of the original dataframes"
   ]
  },
  {
   "cell_type": "code",
   "execution_count": 9,
   "metadata": {
    "scrolled": true
   },
   "outputs": [
    {
     "name": "stdout",
     "output_type": "stream",
     "text": [
      "   Country  Happiness Rank_x  Year_x  Happiness Rank_y  Year_y\n",
      "0  Denmark                 3    2015               NaN     NaN\n",
      "1   Norway                 4    2015               4.0  2016.0\n",
      "2   Canada                 5    2015               NaN     NaN\n",
      "   Country  Happiness Rank_x  Year_x  Happiness Rank_y  Year_y\n",
      "0  Iceland                 3    2016               NaN     NaN\n",
      "1   Norway                 4    2016               4.0  2015.0\n",
      "2  Finland                 5    2016               NaN     NaN\n"
     ]
    }
   ],
   "source": [
    "merged_left=pd.merge(left=three_2015, right=three_2016, on='Country',how='left')\n",
    "merged_left_updated=pd.merge(left=three_2016, right=three_2015, on='Country',how='left')\n",
    "print(merged_left)\n",
    "print(merged_left_updated)"
   ]
  },
  {
   "cell_type": "markdown",
   "metadata": {},
   "source": [
    "### Updating Suffixes"
   ]
  },
  {
   "cell_type": "code",
   "execution_count": 12,
   "metadata": {
    "scrolled": true
   },
   "outputs": [
    {
     "name": "stdout",
     "output_type": "stream",
     "text": [
      "   Country  Happiness Rank-2015  Year-2015  Happiness Rank-2016  Year-2016\n",
      "0  Iceland                    3       2016                  NaN        NaN\n",
      "1   Norway                    4       2016                  4.0     2015.0\n",
      "2  Finland                    5       2016                  NaN        NaN\n",
      "   Country  Happiness Rank-2016  Year-2016  Happiness Rank-2015  Year-2015\n",
      "0  Iceland                    3       2016                  NaN        NaN\n",
      "1   Norway                    4       2016                  4.0     2015.0\n",
      "2  Finland                    5       2016                  NaN        NaN\n"
     ]
    }
   ],
   "source": [
    "three_2015 = happiness2015[['Country','Happiness Rank','Year']].iloc[2:5]\n",
    "three_2016 = happiness2016[['Country','Happiness Rank','Year']].iloc[2:5]\n",
    "merged = pd.merge(left=three_2015, right=three_2016, how='left', on='Country')\n",
    "merged_updated = pd.merge(left=three_2016, right=three_2015, how = 'left', on='Country')\n",
    "merged_updated_suffixes = pd.merge(left=three_2016, right=three_2015, how = 'left', on='Country',suffixes=('-2016','-2015'))\n",
    "merged_suffixes = pd.merge(left=three_2015, right=three_2016, how = 'left', on='Country',suffixes=('-2015','-2016'))   \n",
    "print(merged_suffixes)\n",
    "print(merged_updated_suffixes)"
   ]
  },
  {
   "cell_type": "code",
   "execution_count": 13,
   "metadata": {
    "scrolled": true
   },
   "outputs": [
    {
     "name": "stdout",
     "output_type": "stream",
     "text": [
      "  Country_2015  Happiness Rank_2015  Year_2015 Country_2016  \\\n",
      "2      Denmark                    3       2015      Iceland   \n",
      "3       Norway                    4       2015       Norway   \n",
      "4       Canada                    5       2015      Finland   \n",
      "\n",
      "   Happiness Rank_2016  Year_2016  \n",
      "2                    3       2016  \n",
      "3                    4       2016  \n",
      "4                    5       2016  \n",
      "  Country_2015  Happiness Rank_2015  Year_2015 Country_2016  \\\n",
      "2      Denmark                    3       2015      Iceland   \n",
      "3       Norway                    4       2015       Norway   \n",
      "4       Canada                    5       2015      Finland   \n",
      "5      Finland                    6       2015          NaN   \n",
      "\n",
      "   Happiness Rank_2016  Year_2016  \n",
      "2                  3.0     2016.0  \n",
      "3                  4.0     2016.0  \n",
      "4                  5.0     2016.0  \n",
      "5                  NaN        NaN  \n"
     ]
    }
   ],
   "source": [
    "import pandas as pd\n",
    "four_2015 = happiness2015[['Country','Happiness Rank','Year']].iloc[2:6]\n",
    "three_2016 = happiness2016[['Country','Happiness Rank','Year']].iloc[2:5]\n",
    "#merge only common index using inner join\n",
    "merge_index = pd.merge(left = four_2015,right = three_2016, left_index = True, right_index = True, suffixes = ('_2015','_2016'))\n",
    "#predict columns and rows from merging on left index (correct)\n",
    "rows=4 \n",
    "columns=6\n",
    "#merge on left index using inner join\n",
    "merge_index_left=pd.merge(left = four_2015,right = three_2016,how='left', left_index = True, right_index = True, suffixes = ('_2015','_2016'))\n",
    "print(merge_index)\n",
    "print(merge_index_left)"
   ]
  },
  {
   "cell_type": "code",
   "execution_count": 27,
   "metadata": {
    "scrolled": true
   },
   "outputs": [
    {
     "name": "stdout",
     "output_type": "stream",
     "text": [
      "       Country          Region  Happiness Rank  Happiness Score  \\\n",
      "0  Switzerland  Western Europe             1.0            7.587   \n",
      "1      Iceland  Western Europe             2.0            7.561   \n",
      "2      Denmark  Western Europe             3.0            7.527   \n",
      "\n",
      "   Standard Error  Economy (GDP per Capita)   Family  \\\n",
      "0         0.03411                   1.39651  1.34951   \n",
      "1         0.04884                   1.30232  1.40223   \n",
      "2         0.03328                   1.32548  1.36058   \n",
      "\n",
      "   Health (Life Expectancy)  Freedom  Trust (Government Corruption)  ...  \\\n",
      "0                   0.94143  0.66557                        0.41978  ...   \n",
      "1                   0.94784  0.62877                        0.14145  ...   \n",
      "2                   0.87464  0.64938                        0.48357  ...   \n",
      "\n",
      "   Year  Lower Confidence Interval  Upper Confidence Interval  Happiness.Rank  \\\n",
      "0  2015                        NaN                        NaN             NaN   \n",
      "1  2015                        NaN                        NaN             NaN   \n",
      "2  2015                        NaN                        NaN             NaN   \n",
      "\n",
      "   Whisker.high  Whisker.low  Economy..GDP.per.Capita.  \\\n",
      "0           NaN          NaN                       NaN   \n",
      "1           NaN          NaN                       NaN   \n",
      "2           NaN          NaN                       NaN   \n",
      "\n",
      "   Health..Life.Expectancy.  Trust..Government.Corruption.  Dystopia.Residual  \n",
      "0                       NaN                            NaN                NaN  \n",
      "1                       NaN                            NaN                NaN  \n",
      "2                       NaN                            NaN                NaN  \n",
      "\n",
      "[3 rows x 22 columns]\n"
     ]
    }
   ],
   "source": [
    "happiness2017.rename(columns={'Happiness.Score': 'Happiness Score'}, inplace=True)\n",
    "\n",
    "combined=pd.concat([happiness2015,happiness2016,happiness2017],axis=0)\n",
    "print(combined.head(3))"
   ]
  },
  {
   "cell_type": "code",
   "execution_count": 26,
   "metadata": {},
   "outputs": [
    {
     "name": "stdout",
     "output_type": "stream",
     "text": [
      "<class 'pandas.core.frame.DataFrame'>\n",
      "RangeIndex: 158 entries, 0 to 157\n",
      "Data columns (total 40 columns):\n",
      " #   Column                         Non-Null Count  Dtype  \n",
      "---  ------                         --------------  -----  \n",
      " 0   Country                        158 non-null    object \n",
      " 1   Region                         158 non-null    object \n",
      " 2   Happiness Rank                 158 non-null    int64  \n",
      " 3   Happiness Score                158 non-null    float64\n",
      " 4   Standard Error                 158 non-null    float64\n",
      " 5   Economy (GDP per Capita)       158 non-null    float64\n",
      " 6   Family                         158 non-null    float64\n",
      " 7   Health (Life Expectancy)       158 non-null    float64\n",
      " 8   Freedom                        158 non-null    float64\n",
      " 9   Trust (Government Corruption)  158 non-null    float64\n",
      " 10  Generosity                     158 non-null    float64\n",
      " 11  Dystopia Residual              158 non-null    float64\n",
      " 12  Year                           158 non-null    int64  \n",
      " 13  Country                        157 non-null    object \n",
      " 14  Region                         157 non-null    object \n",
      " 15  Happiness Rank                 157 non-null    float64\n",
      " 16  Happiness Score                157 non-null    float64\n",
      " 17  Lower Confidence Interval      157 non-null    float64\n",
      " 18  Upper Confidence Interval      157 non-null    float64\n",
      " 19  Economy (GDP per Capita)       157 non-null    float64\n",
      " 20  Family                         157 non-null    float64\n",
      " 21  Health (Life Expectancy)       157 non-null    float64\n",
      " 22  Freedom                        157 non-null    float64\n",
      " 23  Trust (Government Corruption)  157 non-null    float64\n",
      " 24  Generosity                     157 non-null    float64\n",
      " 25  Dystopia Residual              157 non-null    float64\n",
      " 26  Year                           157 non-null    float64\n",
      " 27  Country                        155 non-null    object \n",
      " 28  Happiness.Rank                 155 non-null    float64\n",
      " 29  Happiness Score                155 non-null    float64\n",
      " 30  Whisker.high                   155 non-null    float64\n",
      " 31  Whisker.low                    155 non-null    float64\n",
      " 32  Economy..GDP.per.Capita.       155 non-null    float64\n",
      " 33  Family                         155 non-null    float64\n",
      " 34  Health..Life.Expectancy.       155 non-null    float64\n",
      " 35  Freedom                        155 non-null    float64\n",
      " 36  Generosity                     155 non-null    float64\n",
      " 37  Trust..Government.Corruption.  155 non-null    float64\n",
      " 38  Dystopia.Residual              155 non-null    float64\n",
      " 39  Year                           155 non-null    float64\n",
      "dtypes: float64(33), int64(2), object(5)\n",
      "memory usage: 49.5+ KB\n"
     ]
    }
   ],
   "source": [
    "combined. info()"
   ]
  },
  {
   "cell_type": "code",
   "execution_count": 19,
   "metadata": {
    "scrolled": false
   },
   "outputs": [
    {
     "name": "stdout",
     "output_type": "stream",
     "text": [
      "<class 'pandas.core.frame.DataFrame'>\n",
      "RangeIndex: 155 entries, 0 to 154\n",
      "Data columns (total 13 columns):\n",
      " #   Column                         Non-Null Count  Dtype  \n",
      "---  ------                         --------------  -----  \n",
      " 0   Country                        155 non-null    object \n",
      " 1   Happiness.Rank                 155 non-null    int64  \n",
      " 2   Happiness Score                155 non-null    float64\n",
      " 3   Whisker.high                   155 non-null    float64\n",
      " 4   Whisker.low                    155 non-null    float64\n",
      " 5   Economy..GDP.per.Capita.       155 non-null    float64\n",
      " 6   Family                         155 non-null    float64\n",
      " 7   Health..Life.Expectancy.       155 non-null    float64\n",
      " 8   Freedom                        155 non-null    float64\n",
      " 9   Generosity                     155 non-null    float64\n",
      " 10  Trust..Government.Corruption.  155 non-null    float64\n",
      " 11  Dystopia.Residual              155 non-null    float64\n",
      " 12  Year                           155 non-null    int64  \n",
      "dtypes: float64(10), int64(2), object(1)\n",
      "memory usage: 15.9+ KB\n"
     ]
    }
   ],
   "source": [
    "happiness2017.info()"
   ]
  },
  {
   "cell_type": "code",
   "execution_count": 29,
   "metadata": {
    "scrolled": true
   },
   "outputs": [
    {
     "data": {
      "text/plain": [
       "<matplotlib.axes._subplots.AxesSubplot at 0x8c0f688>"
      ]
     },
     "execution_count": 29,
     "metadata": {},
     "output_type": "execute_result"
    },
    {
     "data": {
      "image/png": "[encoded data removed]",
      "text/plain": [
       "<Figure size 432x288 with 1 Axes>"
      ]
     },
     "metadata": {
      "needs_background": "light"
     },
     "output_type": "display_data"
    }
   ],
   "source": [
    "pivot_table_combined=combined.pivot_table(values='Happiness Score', index='Year', aggfunc=np.mean)\n",
    "pivot_table_combined.plot(kind='barh',title='Mean Happiness Scores by Year', xlim=(0,10), legend=False)"
   ]
  },
  {
   "cell_type": "markdown",
   "metadata": {},
   "source": [
    "### `df.append()` and `df.join()` methods\n",
    "are basically shortcuts for the concat() and merge() functions. In order to learn more about them, check out this (documentation)[https://pandas.pydata.org/pandas-docs/stable/user_guide/merging.html]"
   ]
  }
 ],
 "metadata": {
  "kernelspec": {
   "display_name": "Python 3",
   "language": "python",
   "name": "python3"
  },
  "language_info": {
   "codemirror_mode": {
    "name": "ipython",
    "version": 3
   },
   "file_extension": ".py",
   "mimetype": "text/x-python",
   "name": "python",
   "nbconvert_exporter": "python",
   "pygments_lexer": "ipython3",
   "version": "3.7.6"
  }
 },
 "nbformat": 4,
 "nbformat_minor": 4
}
